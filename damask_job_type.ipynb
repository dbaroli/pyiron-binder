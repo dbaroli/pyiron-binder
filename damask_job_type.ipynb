{
 "cells": [
  {
   "cell_type": "code",
   "execution_count": 1,
   "metadata": {},
   "outputs": [],
   "source": [
    "from pyiron_base import Project, GenericJob, GenericParameters\n",
    "import numpy as np"
   ]
  },
  {
   "cell_type": "code",
   "execution_count": 2,
   "metadata": {},
   "outputs": [],
   "source": [
    "import damask\n",
    "from damask import Geom\n",
    "from damask import seeds"
   ]
  },
  {
   "cell_type": "code",
   "execution_count": 3,
   "metadata": {},
   "outputs": [],
   "source": [
    "import h5py"
   ]
  },
  {
   "cell_type": "code",
   "execution_count": 4,
   "metadata": {},
   "outputs": [],
   "source": [
    "import yaml"
   ]
  },
  {
   "cell_type": "code",
   "execution_count": 5,
   "metadata": {},
   "outputs": [],
   "source": [
    "with open('Examples/material.yaml') as f:\n",
    "    material = yaml.load(f, Loader=yaml.FullLoader)\n",
    "with open('Examples/tensionX.load') as f:\n",
    "    tension = f.readlines()"
   ]
  },
  {
   "cell_type": "code",
   "execution_count": 6,
   "metadata": {},
   "outputs": [],
   "source": [
    "import os"
   ]
  },
  {
   "cell_type": "code",
   "execution_count": 7,
   "metadata": {},
   "outputs": [],
   "source": [
    "class DAMASKjob(GenericJob):\n",
    "    def __init__(self, project, job_name):\n",
    "        super(DAMASKjob, self).__init__(project, job_name)\n",
    "        self.input = GenericParameters(table_name=\"input\")\n",
    "        self.input['C11'] = 0\n",
    "        self.input['C12'] = 0\n",
    "        self.input['C44'] = 0\n",
    "        self.input['grid'] = np.array([16,16,16])\n",
    "        self.input['size'] = np.array([1.0,1.0,1.0])\n",
    "        self.input['grains'] = 20\n",
    "        self.executable = \"DAMASK_grid -l tensionX.load -g damask.geom\"\n",
    "        self._material = None \n",
    "        self._tension = None \n",
    "        \n",
    "    @property\n",
    "    def material(self):\n",
    "        return self._material\n",
    "    \n",
    "    @material.setter\n",
    "    def material(self, mat):\n",
    "        self._material = mat\n",
    "        \n",
    "    @property\n",
    "    def tension(self):\n",
    "        return self._tension\n",
    "    \n",
    "    @tension.setter\n",
    "    def tension(self, tension):\n",
    "        self._tension = tension\n",
    "        \n",
    "    def write_input(self): \n",
    "        with open(os.path.join(self.working_directory, 'material.yaml'), \"w\") as f:\n",
    "            yaml.dump(self._material, f)\n",
    "        with open(os.path.join(self.working_directory, 'tensionX.load'), \"w\") as f:\n",
    "            f.writelines(self._tension)\n",
    "        seed = seeds.from_random(self.input['size'], self.input['grains'])\n",
    "        new_geom = Geom.from_Voronoi_tessellation(self.input['grid'], self.input['size'], seed)\n",
    "        new_geom.save_ASCII(os.path.join(self.working_directory, \"damask.geom\"))\n",
    "        new_geom.save(os.path.join(self.working_directory, \"damask\"))\n",
    "        C_matrix = [self.input['C11']*1e9, self.input['C12']*1e9, self.input['C44']*1e9]\n",
    "        elasticity={}\n",
    "        elasticity.update({'type': 'hooke'})\n",
    "        elastic_constants = {'C_11': C_matrix[0], 'C_12': C_matrix[1], 'C_44': C_matrix[2]}\n",
    "        elasticity.update(elastic_constants)\n",
    "        mat = damask.Config.load(os.path.join(self.working_directory, 'material.yaml'))\n",
    "        mat['phase']['Aluminum']['elasticity'] = elasticity\n",
    "        mat.save(os.path.join(self.working_directory, 'material.yaml'))\n",
    "        \n",
    "    def collect_output(self): \n",
    "        pass \n",
    "    \n",
    "    def to_hdf(self, hdf=None, group_name=None): \n",
    "        super().to_hdf(\n",
    "            hdf=hdf,\n",
    "            group_name=group_name\n",
    "        )\n",
    "        with self.project_hdf5.open(\"input\") as h5in:\n",
    "            self.input.to_hdf(h5in)\n",
    "            h5in[\"material\"] = self._material\n",
    "            h5in[\"tension\"] = self._tension\n",
    "\n",
    "    def from_hdf(self, hdf=None, group_name=None): \n",
    "        super().from_hdf(\n",
    "            hdf=hdf,\n",
    "            group_name=group_name\n",
    "        )\n",
    "        with self.project_hdf5.open(\"input\") as h5in:\n",
    "            self.input.from_hdf(h5in)\n",
    "            self._material = h5in[\"material\"]\n",
    "            self._tension = h5in[\"tension\"]\n",
    "    \n",
    "    @property\n",
    "    def output_file(self):\n",
    "        file_name = os.path.join(self.working_directory, \"damask_tensionX.hdf5\")\n",
    "        if self.status.finished and os.path.exists(file_name):\n",
    "            return file_name\n",
    "    \n",
    "    @property\n",
    "    def output(self):\n",
    "        file_name = self.output_file\n",
    "        if file_name is not None:\n",
    "            return damask.Result(file_name)\n",
    "\n",
    "    def eval_stress(self):\n",
    "        \"\"\"\n",
    "        return the stress as a numpy array\n",
    "        Parameters\n",
    "        ----------\n",
    "        job_file : str\n",
    "          Name of the job_file\n",
    "        \"\"\"\n",
    "        file_name = self.output_file\n",
    "        if file_name is not None:\n",
    "            d = damask.Result(file_name)\n",
    "            stress_path = d.get_dataset_location('avg_sigma')\n",
    "            stress = np.zeros(len(stress_path))\n",
    "            hdf = h5py.File(d.fname)\n",
    "            for count,path in enumerate(stress_path):\n",
    "                stress[count] = np.array(hdf[path])\n",
    "            stress = np.array(stress)/1E6\n",
    "            return stress\n",
    "\n",
    "    def eval_strain(self):\n",
    "        \"\"\"\n",
    "        return the strain as a numpy array\n",
    "        Parameters\n",
    "        ----------\n",
    "        job_file : str\n",
    "          Name of the job_file\n",
    "        \"\"\"\n",
    "        file_name = self.output_file\n",
    "        if file_name is not None:\n",
    "            d = damask.Result(file_name)\n",
    "            stress_path = d.get_dataset_location('avg_sigma')\n",
    "            strain = np.zeros(len(stress_path))\n",
    "            hdf = h5py.File(d.fname)\n",
    "            for count,path in enumerate(stress_path):\n",
    "                strain[count] = np.array(hdf[path.split('avg_sigma')[0]     + 'avg_epsilon'])\n",
    "\n",
    "            return strain  "
   ]
  },
  {
   "cell_type": "code",
   "execution_count": 8,
   "metadata": {},
   "outputs": [],
   "source": [
    "pr = Project(\"test\")"
   ]
  },
  {
   "cell_type": "code",
   "execution_count": 9,
   "metadata": {},
   "outputs": [],
   "source": [
    "# pr.remove_jobs_silently(recursive=True)"
   ]
  },
  {
   "cell_type": "code",
   "execution_count": 10,
   "metadata": {},
   "outputs": [
    {
     "name": "stderr",
     "output_type": "stream",
     "text": [
      "/srv/conda/envs/notebook/lib/python3.7/site-packages/pyiron_base/generic/parameters.py:860: VisibleDeprecationWarning: Creating an ndarray from ragged nested sequences (which is a list-or-tuple of lists-or-tuples-or ndarrays with different lengths or shapes) is deprecated. If you meant to do this, you must specify 'dtype=object' when creating the ndarray\n",
      "  self._dataset[col] = np.array(self._dataset[col]).tolist()\n",
      "2020-11-04 11:42:34,945 - pyiron_log - WARNING - The job damask is being loaded instead of running. To re-run use the argument 'delete_existing_job=True in create_job'\n"
     ]
    }
   ],
   "source": [
    "job = pr.create_job(DAMASKjob, \"damask\")\n",
    "job.material = material\n",
    "job.tension = tension\n",
    "job.input['C11'] = 110.193270\n",
    "job.input['C12'] = 61.752630\n",
    "job.input['C44'] = 32.746691\n",
    "job.run()"
   ]
  },
  {
   "cell_type": "code",
   "execution_count": 11,
   "metadata": {},
   "outputs": [
    {
     "data": {
      "text/html": [
       "<div>\n",
       "<style scoped>\n",
       "    .dataframe tbody tr th:only-of-type {\n",
       "        vertical-align: middle;\n",
       "    }\n",
       "\n",
       "    .dataframe tbody tr th {\n",
       "        vertical-align: top;\n",
       "    }\n",
       "\n",
       "    .dataframe thead th {\n",
       "        text-align: right;\n",
       "    }\n",
       "</style>\n",
       "<table border=\"1\" class=\"dataframe\">\n",
       "  <thead>\n",
       "    <tr style=\"text-align: right;\">\n",
       "      <th></th>\n",
       "      <th>id</th>\n",
       "      <th>status</th>\n",
       "      <th>chemicalformula</th>\n",
       "      <th>job</th>\n",
       "      <th>subjob</th>\n",
       "      <th>projectpath</th>\n",
       "      <th>project</th>\n",
       "      <th>timestart</th>\n",
       "      <th>timestop</th>\n",
       "      <th>totalcputime</th>\n",
       "      <th>computer</th>\n",
       "      <th>hamilton</th>\n",
       "      <th>hamversion</th>\n",
       "      <th>parentid</th>\n",
       "      <th>masterid</th>\n",
       "    </tr>\n",
       "  </thead>\n",
       "  <tbody>\n",
       "    <tr>\n",
       "      <th>0</th>\n",
       "      <td>18</td>\n",
       "      <td>finished</td>\n",
       "      <td>None</td>\n",
       "      <td>damask</td>\n",
       "      <td>/damask</td>\n",
       "      <td>/home/jovyan/</td>\n",
       "      <td>test/</td>\n",
       "      <td>2020-11-04 11:28:43.220686</td>\n",
       "      <td>2020-11-04 11:33:55.335456</td>\n",
       "      <td>312.0</td>\n",
       "      <td>pyiron@jupyter-jan-2djanssen-2dpyiron-2ddamask-2dceiy0z9t#1</td>\n",
       "      <td>GenericJob</td>\n",
       "      <td>0.4</td>\n",
       "      <td>None</td>\n",
       "      <td>None</td>\n",
       "    </tr>\n",
       "  </tbody>\n",
       "</table>\n",
       "</div>"
      ],
      "text/plain": [
       "   id    status chemicalformula     job   subjob    projectpath project  \\\n",
       "0  18  finished            None  damask  /damask  /home/jovyan/   test/   \n",
       "\n",
       "                   timestart                   timestop  totalcputime  \\\n",
       "0 2020-11-04 11:28:43.220686 2020-11-04 11:33:55.335456         312.0   \n",
       "\n",
       "                                                      computer    hamilton  \\\n",
       "0  pyiron@jupyter-jan-2djanssen-2dpyiron-2ddamask-2dceiy0z9t#1  GenericJob   \n",
       "\n",
       "  hamversion parentid masterid  \n",
       "0        0.4     None     None  "
      ]
     },
     "execution_count": 11,
     "metadata": {},
     "output_type": "execute_result"
    }
   ],
   "source": [
    "pr.job_table()"
   ]
  },
  {
   "cell_type": "code",
   "execution_count": 12,
   "metadata": {},
   "outputs": [],
   "source": [
    "damask_results = job.output"
   ]
  },
  {
   "cell_type": "code",
   "execution_count": 13,
   "metadata": {},
   "outputs": [
    {
     "name": "stderr",
     "output_type": "stream",
     "text": [
      " █░░░░░░░░░░░░░░░░░░░░░░░░░░░░░░░░░░░░░░░░░░░░░░░░░   2% ETA 0:00:16"
     ]
    },
    {
     "name": "stdout",
     "output_type": "stream",
     "text": [
      "Could not add dataset: Unable to create link (name already exists).\n",
      "Could not add dataset: Unable to create link (name already exists).\n",
      "Could not add dataset: Unable to create link (name already exists).\n"
     ]
    },
    {
     "name": "stderr",
     "output_type": "stream",
     "text": [
      " ███░░░░░░░░░░░░░░░░░░░░░░░░░░░░░░░░░░░░░░░░░░░░░░░   6% ETA 0:00:11"
     ]
    },
    {
     "name": "stdout",
     "output_type": "stream",
     "text": [
      "Could not add dataset: Unable to create link (name already exists).\n",
      "Could not add dataset: Unable to create link (name already exists).\n"
     ]
    },
    {
     "name": "stderr",
     "output_type": "stream",
     "text": [
      " ████░░░░░░░░░░░░░░░░░░░░░░░░░░░░░░░░░░░░░░░░░░░░░░   9% ETA 0:00:09"
     ]
    },
    {
     "name": "stdout",
     "output_type": "stream",
     "text": [
      "Could not add dataset: Unable to create link (name already exists).\n",
      "Could not add dataset: Unable to create link (name already exists).\n",
      "Could not add dataset: Unable to create link (name already exists).\n"
     ]
    },
    {
     "name": "stderr",
     "output_type": "stream",
     "text": [
      " ██████░░░░░░░░░░░░░░░░░░░░░░░░░░░░░░░░░░░░░░░░░░░░  12% ETA 0:00:08"
     ]
    },
    {
     "name": "stdout",
     "output_type": "stream",
     "text": [
      "Could not add dataset: Unable to create link (name already exists).\n",
      "Could not add dataset: Unable to create link (name already exists).\n"
     ]
    },
    {
     "name": "stderr",
     "output_type": "stream",
     "text": [
      " █████████░░░░░░░░░░░░░░░░░░░░░░░░░░░░░░░░░░░░░░░░░  19% ETA 0:00:06"
     ]
    },
    {
     "name": "stdout",
     "output_type": "stream",
     "text": [
      "Could not add dataset: Unable to create link (name already exists).\n",
      "Could not add dataset: Unable to create link (name already exists).\n",
      "Could not add dataset: Unable to create link (name already exists).\n",
      "Could not add dataset: Unable to create link (name already exists).\n",
      "Could not add dataset: Unable to create link (name already exists).\n"
     ]
    },
    {
     "name": "stderr",
     "output_type": "stream",
     "text": [
      " ████████████████████████████████░░░░░░░░░░░░░░░░░░  64% ETA 0:00:00"
     ]
    },
    {
     "name": "stdout",
     "output_type": "stream",
     "text": [
      "Could not add dataset: Unable to create link (name already exists).\n",
      "Could not add dataset: Unable to create link (name already exists).\n",
      "Could not add dataset: Unable to create link (name already exists).\n",
      "Could not add dataset: Unable to create link (name already exists).\n",
      "Could not add dataset: Unable to create link (name already exists).\n",
      "Could not add dataset: Unable to create link (name already exists).\n",
      "Could not add dataset: Unable to create link (name already exists).\n",
      "Could not add dataset: Unable to create link (name already exists).\n",
      "Could not add dataset: Unable to create link (name already exists).\n",
      "Could not add dataset: Unable to create link (name already exists).\n",
      "Could not add dataset: Unable to create link (name already exists).\n",
      "Could not add dataset: Unable to create link (name already exists).\n",
      "Could not add dataset: Unable to create link (name already exists).\n",
      "Could not add dataset: Unable to create link (name already exists).\n",
      "Could not add dataset: Unable to create link (name already exists).\n",
      "Could not add dataset: Unable to create link (name already exists).\n",
      "Could not add dataset: Unable to create link (name already exists).\n",
      "Could not add dataset: Unable to create link (name already exists).\n",
      "Could not add dataset: Unable to create link (name already exists).\n",
      "Could not add dataset: Unable to create link (name already exists).\n",
      "Could not add dataset: Unable to create link (name already exists).\n",
      "Could not add dataset: Unable to create link (name already exists).\n",
      "Could not add dataset: Unable to create link (name already exists).\n",
      "Could not add dataset: Unable to create link (name already exists).\n",
      "Could not add dataset: Unable to create link (name already exists).\n",
      "Could not add dataset: Unable to create link (name already exists).\n",
      "Could not add dataset: Unable to create link (name already exists).\n",
      "Could not add dataset: Unable to create link (name already exists).\n",
      "Could not add dataset: Unable to create link (name already exists).\n",
      "Could not add dataset: Unable to create link (name already exists).\n",
      "Could not add dataset: Unable to create link (name already exists).\n",
      "Could not add dataset: Unable to create link (name already exists).\n",
      "Could not add dataset: Unable to create link (name already exists).\n",
      "Could not add dataset: Unable to create link (name already exists).\n",
      "Could not add dataset: Unable to create link (name already exists).\n",
      "Could not add dataset: Unable to create link (name already exists).\n",
      "Could not add dataset: Unable to create link (name already exists).\n",
      "Could not add dataset: Unable to create link (name already exists).\n"
     ]
    },
    {
     "name": "stderr",
     "output_type": "stream",
     "text": [
      " ██████████████████████████████████████████████████ 100% ETA 0:00:00\n"
     ]
    },
    {
     "name": "stdout",
     "output_type": "stream",
     "text": [
      "Could not add dataset: Unable to create link (name already exists).\n",
      "Could not add dataset: Unable to create link (name already exists).\n",
      "Could not add dataset: Unable to create link (name already exists).\n",
      "Could not add dataset: Unable to create link (name already exists).\n",
      "Could not add dataset: Unable to create link (name already exists).\n",
      "Could not add dataset: Unable to create link (name already exists).\n",
      "Could not add dataset: Unable to create link (name already exists).\n",
      "Could not add dataset: Unable to create link (name already exists).\n",
      "Could not add dataset: Unable to create link (name already exists).\n",
      "Could not add dataset: Unable to create link (name already exists).\n",
      "Could not add dataset: Unable to create link (name already exists).\n",
      "Could not add dataset: Unable to create link (name already exists).\n",
      "Could not add dataset: Unable to create link (name already exists).\n",
      "Could not add dataset: Unable to create link (name already exists).\n",
      "Could not add dataset: Unable to create link (name already exists).\n",
      "Could not add dataset: Unable to create link (name already exists).\n",
      "Could not add dataset: Unable to create link (name already exists).\n",
      "Could not add dataset: Unable to create link (name already exists).\n",
      "Could not add dataset: Unable to create link (name already exists).\n",
      "Could not add dataset: Unable to create link (name already exists).\n",
      "Could not add dataset: Unable to create link (name already exists).\n",
      "Could not add dataset: Unable to create link (name already exists).\n",
      "Could not add dataset: Unable to create link (name already exists).\n",
      "Could not add dataset: Unable to create link (name already exists).\n",
      "Could not add dataset: Unable to create link (name already exists).\n",
      "Could not add dataset: Unable to create link (name already exists).\n",
      "Could not add dataset: Unable to create link (name already exists).\n",
      "Could not add dataset: Unable to create link (name already exists).\n"
     ]
    },
    {
     "name": "stderr",
     "output_type": "stream",
     "text": [
      " ███░░░░░░░░░░░░░░░░░░░░░░░░░░░░░░░░░░░░░░░░░░░░░░░   6% ETA 0:00:11"
     ]
    },
    {
     "name": "stdout",
     "output_type": "stream",
     "text": [
      "Could not add dataset: Unable to create link (name already exists).\n",
      "Could not add dataset: Unable to create link (name already exists).\n",
      "Could not add dataset: Unable to create link (name already exists).\n",
      "Could not add dataset: Unable to create link (name already exists).\n",
      "Could not add dataset: Unable to create link (name already exists).\n"
     ]
    },
    {
     "name": "stderr",
     "output_type": "stream",
     "text": [
      " ██████░░░░░░░░░░░░░░░░░░░░░░░░░░░░░░░░░░░░░░░░░░░░  12% ETA 0:00:06"
     ]
    },
    {
     "name": "stdout",
     "output_type": "stream",
     "text": [
      "Could not add dataset: Unable to create link (name already exists).\n",
      "Could not add dataset: Unable to create link (name already exists).\n",
      "Could not add dataset: Unable to create link (name already exists).\n",
      "Could not add dataset: Unable to create link (name already exists).\n",
      "Could not add dataset: Unable to create link (name already exists).\n",
      "Could not add dataset: Unable to create link (name already exists).\n"
     ]
    },
    {
     "name": "stderr",
     "output_type": "stream",
     "text": [
      " █████████░░░░░░░░░░░░░░░░░░░░░░░░░░░░░░░░░░░░░░░░░  19% ETA 0:00:05"
     ]
    },
    {
     "name": "stdout",
     "output_type": "stream",
     "text": [
      "Could not add dataset: Unable to create link (name already exists).\n",
      "Could not add dataset: Unable to create link (name already exists).\n",
      "Could not add dataset: Unable to create link (name already exists).\n",
      "Could not add dataset: Unable to create link (name already exists).\n",
      "Could not add dataset: Unable to create link (name already exists).\n",
      "Could not add dataset: Unable to create link (name already exists)."
     ]
    },
    {
     "name": "stderr",
     "output_type": "stream",
     "text": [
      " ████████████░░░░░░░░░░░░░░░░░░░░░░░░░░░░░░░░░░░░░░  25% ETA 0:00:04"
     ]
    },
    {
     "name": "stdout",
     "output_type": "stream",
     "text": [
      "\n",
      "Could not add dataset: Unable to create link (name already exists).\n",
      "Could not add dataset: Unable to create link (name already exists).\n",
      "Could not add dataset: Unable to create link (name already exists).\n",
      "Could not add dataset: Unable to create link (name already exists).\n"
     ]
    },
    {
     "name": "stderr",
     "output_type": "stream",
     "text": [
      " ████████████████░░░░░░░░░░░░░░░░░░░░░░░░░░░░░░░░░░  32% ETA 0:00:03"
     ]
    },
    {
     "name": "stdout",
     "output_type": "stream",
     "text": [
      "Could not add dataset: Unable to create link (name already exists).\n",
      "Could not add dataset: Unable to create link (name already exists).\n",
      "Could not add dataset: Unable to create link (name already exists).\n",
      "Could not add dataset: Unable to create link (name already exists).\n",
      "Could not add dataset: Unable to create link (name already exists).\n"
     ]
    },
    {
     "name": "stderr",
     "output_type": "stream",
     "text": [
      " ███████████████████░░░░░░░░░░░░░░░░░░░░░░░░░░░░░░░  38% ETA 0:00:03"
     ]
    },
    {
     "name": "stdout",
     "output_type": "stream",
     "text": [
      "Could not add dataset: Unable to create link (name already exists).\n",
      "Could not add dataset: Unable to create link (name already exists).\n",
      "Could not add dataset: Unable to create link (name already exists).\n",
      "Could not add dataset: Unable to create link (name already exists).\n",
      "Could not add dataset: Unable to create link (name already exists).\n"
     ]
    },
    {
     "name": "stderr",
     "output_type": "stream",
     "text": [
      " █████████████████████░░░░░░░░░░░░░░░░░░░░░░░░░░░░░  43% ETA 0:00:02"
     ]
    },
    {
     "name": "stdout",
     "output_type": "stream",
     "text": [
      "Could not add dataset: Unable to create link (name already exists).\n",
      "Could not add dataset: Unable to create link (name already exists).\n",
      "Could not add dataset: Unable to create link (name already exists).\n",
      "Could not add dataset: Unable to create link (name already exists).\n",
      "Could not add dataset: Unable to create link (name already exists).\n"
     ]
    },
    {
     "name": "stderr",
     "output_type": "stream",
     "text": [
      " ████████████████████████░░░░░░░░░░░░░░░░░░░░░░░░░░  48% ETA 0:00:02"
     ]
    },
    {
     "name": "stdout",
     "output_type": "stream",
     "text": [
      "Could not add dataset: Unable to create link (name already exists).\n",
      "Could not add dataset: Unable to create link (name already exists).\n",
      "Could not add dataset: Unable to create link (name already exists).\n"
     ]
    },
    {
     "name": "stderr",
     "output_type": "stream",
     "text": [
      " ███████████████████████████░░░░░░░░░░░░░░░░░░░░░░░  54% ETA 0:00:02"
     ]
    },
    {
     "name": "stdout",
     "output_type": "stream",
     "text": [
      "Could not add dataset: Unable to create link (name already exists).\n",
      "Could not add dataset: Unable to create link (name already exists).\n",
      "Could not add dataset: Unable to create link (name already exists).\n",
      "Could not add dataset: Unable to create link (name already exists).\n",
      "Could not add dataset: Unable to create link (name already exists).\n",
      "Could not add dataset: Unable to create link (name already exists).\n",
      "Could not add dataset: Unable to create link (name already exists).\n"
     ]
    },
    {
     "name": "stderr",
     "output_type": "stream",
     "text": [
      " ████████████████████████████████░░░░░░░░░░░░░░░░░░  64% ETA 0:00:01"
     ]
    },
    {
     "name": "stdout",
     "output_type": "stream",
     "text": [
      "Could not add dataset: Unable to create link (name already exists).\n",
      "Could not add dataset: Unable to create link (name already exists).\n",
      "Could not add dataset: Unable to create link (name already exists).\n",
      "Could not add dataset: Unable to create link (name already exists).\n",
      "Could not add dataset: Unable to create link (name already exists).\n",
      "Could not add dataset: Unable to create link (name already exists).\n"
     ]
    },
    {
     "name": "stderr",
     "output_type": "stream",
     "text": [
      " ████████████████████████████████████░░░░░░░░░░░░░░  73% ETA 0:00:01"
     ]
    },
    {
     "name": "stdout",
     "output_type": "stream",
     "text": [
      "Could not add dataset: Unable to create link (name already exists).\n",
      "Could not add dataset: Unable to create link (name already exists).\n",
      "Could not add dataset: Unable to create link (name already exists).\n",
      "Could not add dataset: Unable to create link (name already exists).\n",
      "Could not add dataset: Unable to create link (name already exists).\n",
      "Could not add dataset: Unable to create link (name already exists).\n",
      "Could not add dataset: Unable to create link (name already exists).\n",
      "Could not add dataset: Unable to create link (name already exists).\n"
     ]
    },
    {
     "name": "stderr",
     "output_type": "stream",
     "text": [
      " ██████████████████████████████████████████████████ 100% ETA 0:00:00\n"
     ]
    },
    {
     "name": "stdout",
     "output_type": "stream",
     "text": [
      "Could not add dataset: Unable to create link (name already exists).\n",
      "Could not add dataset: Unable to create link (name already exists).\n",
      "Could not add dataset: Unable to create link (name already exists).\n",
      "Could not add dataset: Unable to create link (name already exists).\n",
      "Could not add dataset: Unable to create link (name already exists).\n",
      "Could not add dataset: Unable to create link (name already exists).\n",
      "Could not add dataset: Unable to create link (name already exists).\n",
      "Could not add dataset: Unable to create link (name already exists).\n",
      "Could not add dataset: Unable to create link (name already exists).\n",
      "Could not add dataset: Unable to create link (name already exists).\n",
      "Could not add dataset: Unable to create link (name already exists).\n",
      "Could not add dataset: Unable to create link (name already exists).\n",
      "Could not add dataset: Unable to create link (name already exists).\n",
      "Could not add dataset: Unable to create link (name already exists).\n",
      "Could not add dataset: Unable to create link (name already exists).\n",
      "Could not add dataset: Unable to create link (name already exists).\n",
      "Could not add dataset: Unable to create link (name already exists).\n",
      "Could not add dataset: Unable to create link (name already exists).\n",
      "Could not add dataset: Unable to create link (name already exists).\n",
      "Could not add dataset: Unable to create link (name already exists).\n",
      "Could not add dataset: Unable to create link (name already exists).\n"
     ]
    },
    {
     "name": "stderr",
     "output_type": "stream",
     "text": [
      " ███░░░░░░░░░░░░░░░░░░░░░░░░░░░░░░░░░░░░░░░░░░░░░░░   6% ETA 0:00:04"
     ]
    },
    {
     "name": "stdout",
     "output_type": "stream",
     "text": [
      "Could not add dataset: Unable to create link (name already exists).\n",
      "Could not add dataset: Unable to create link (name already exists).\n",
      "Could not add dataset: Unable to create link (name already exists).\n",
      "Could not add dataset: Unable to create link (name already exists).\n",
      "Could not add dataset: Unable to create link (name already exists).\n",
      "Could not add dataset: Unable to create link (name already exists).\n"
     ]
    },
    {
     "name": "stderr",
     "output_type": "stream",
     "text": [
      " ███████░░░░░░░░░░░░░░░░░░░░░░░░░░░░░░░░░░░░░░░░░░░  15% ETA 0:00:03"
     ]
    },
    {
     "name": "stdout",
     "output_type": "stream",
     "text": [
      "Could not add dataset: Unable to create link (name already exists).\n",
      "Could not add dataset: Unable to create link (name already exists).\n",
      "Could not add dataset: Unable to create link (name already exists).\n",
      "Could not add dataset: Unable to create link (name already exists).\n",
      "Could not add dataset: Unable to create link (name already exists).\n",
      "Could not add dataset: Unable to create link (name already exists).\n"
     ]
    },
    {
     "name": "stderr",
     "output_type": "stream",
     "text": [
      " ██████████░░░░░░░░░░░░░░░░░░░░░░░░░░░░░░░░░░░░░░░░  21% ETA 0:00:03"
     ]
    },
    {
     "name": "stdout",
     "output_type": "stream",
     "text": [
      "Could not add dataset: Unable to create link (name already exists).\n",
      "Could not add dataset: Unable to create link (name already exists).\n",
      "Could not add dataset: Unable to create link (name already exists).\n",
      "Could not add dataset: Unable to create link (name already exists).\n",
      "Could not add dataset: Unable to create link (name already exists).\n",
      "Could not add dataset: Unable to create link (name already exists).\n"
     ]
    },
    {
     "name": "stderr",
     "output_type": "stream",
     "text": [
      " ██████████████████████████████████████████████░░░░  93% ETA 0:00:00"
     ]
    },
    {
     "name": "stdout",
     "output_type": "stream",
     "text": [
      "Could not add dataset: Unable to create link (name already exists).\n",
      "Could not add dataset: Unable to create link (name already exists).\n",
      "Could not add dataset: Unable to create link (name already exists).\n",
      "Could not add dataset: Unable to create link (name already exists).\n",
      "Could not add dataset: Unable to create link (name already exists).\n",
      "Could not add dataset: Unable to create link (name already exists).\n",
      "Could not add dataset: Unable to create link (name already exists).\n",
      "Could not add dataset: Unable to create link (name already exists).\n",
      "Could not add dataset: Unable to create link (name already exists).\n",
      "Could not add dataset: Unable to create link (name already exists).\n",
      "Could not add dataset: Unable to create link (name already exists).\n",
      "Could not add dataset: Unable to create link (name already exists).\n",
      "Could not add dataset: Unable to create link (name already exists).\n",
      "Could not add dataset: Unable to create link (name already exists).\n",
      "Could not add dataset: Unable to create link (name already exists).\n",
      "Could not add dataset: Unable to create link (name already exists).\n",
      "Could not add dataset: Unable to create link (name already exists).\n",
      "Could not add dataset: Unable to create link (name already exists).\n",
      "Could not add dataset: Unable to create link (name already exists).\n",
      "Could not add dataset: Unable to create link (name already exists).\n",
      "Could not add dataset: Unable to create link (name already exists).\n",
      "Could not add dataset: Unable to create link (name already exists).\n",
      "Could not add dataset: Unable to create link (name already exists).\n",
      "Could not add dataset: Unable to create link (name already exists).\n",
      "Could not add dataset: Unable to create link (name already exists).\n",
      "Could not add dataset: Unable to create link (name already exists).\n",
      "Could not add dataset: Unable to create link (name already exists).\n",
      "Could not add dataset: Unable to create link (name already exists).\n",
      "Could not add dataset: Unable to create link (name already exists).\n",
      "Could not add dataset: Unable to create link (name already exists).\n",
      "Could not add dataset: Unable to create link (name already exists).\n",
      "Could not add dataset: Unable to create link (name already exists).\n",
      "Could not add dataset: Unable to create link (name already exists).\n",
      "Could not add dataset: Unable to create link (name already exists).\n",
      "Could not add dataset: Unable to create link (name already exists).\n",
      "Could not add dataset: Unable to create link (name already exists).\n",
      "Could not add dataset: Unable to create link (name already exists).\n",
      "Could not add dataset: Unable to create link (name already exists).\n",
      "Could not add dataset: Unable to create link (name already exists).\n",
      "Could not add dataset: Unable to create link (name already exists).\n",
      "Could not add dataset: Unable to create link (name already exists).\n",
      "Could not add dataset: Unable to create link (name already exists).\n",
      "Could not add dataset: Unable to create link (name already exists).\n",
      "Could not add dataset: Unable to create link (name already exists).\n",
      "Could not add dataset: Unable to create link (name already exists).\n",
      "Could not add dataset: Unable to create link (name already exists).\n",
      "Could not add dataset: Unable to create link (name already exists).\n",
      "Could not add dataset: Unable to create link (name already exists).\n",
      "Could not add dataset: Unable to create link (name already exists).\n",
      "Could not add dataset: Unable to create link (name already exists).\n",
      "Could not add dataset: Unable to create link (name already exists).\n",
      "Could not add dataset: Unable to create link (name already exists).\n",
      "Could not add dataset: Unable to create link (name already exists).\n",
      "Could not add dataset: Unable to create link (name already exists).\n",
      "Could not add dataset: Unable to create link (name already exists).\n",
      "Could not add dataset: Unable to create link (name already exists).\n",
      "Could not add dataset: Unable to create link (name already exists).\n"
     ]
    },
    {
     "name": "stderr",
     "output_type": "stream",
     "text": [
      " ██████████████████████████████████████████████████ 100% ETA 0:00:00\n"
     ]
    },
    {
     "name": "stdout",
     "output_type": "stream",
     "text": [
      "Could not add dataset: Unable to create link (name already exists).\n",
      "Could not add dataset: Unable to create link (name already exists).\n",
      "Could not add dataset: Unable to create link (name already exists).\n",
      "Could not add dataset: Unable to create link (name already exists).\n",
      "Could not add dataset: Unable to create link (name already exists).\n",
      "Could not add dataset: Unable to create link (name already exists).\n"
     ]
    },
    {
     "name": "stderr",
     "output_type": "stream",
     "text": [
      " ██░░░░░░░░░░░░░░░░░░░░░░░░░░░░░░░░░░░░░░░░░░░░░░░░   5% ETA 0:00:06"
     ]
    },
    {
     "name": "stdout",
     "output_type": "stream",
     "text": [
      "Could not add dataset: Unable to create link (name already exists).\n",
      "Could not add dataset: Unable to create link (name already exists).\n",
      "Could not add dataset: Unable to create link (name already exists).\n",
      "Could not add dataset: Unable to create link (name already exists).\n"
     ]
    },
    {
     "name": "stderr",
     "output_type": "stream",
     "text": [
      " ██████░░░░░░░░░░░░░░░░░░░░░░░░░░░░░░░░░░░░░░░░░░░░  12% ETA 0:00:04"
     ]
    },
    {
     "name": "stdout",
     "output_type": "stream",
     "text": [
      "Could not add dataset: Unable to create link (name already exists).\n",
      "Could not add dataset: Unable to create link (name already exists).\n",
      "Could not add dataset: Unable to create link (name already exists).\n",
      "Could not add dataset: Unable to create link (name already exists).\n",
      "Could not add dataset: Unable to create link (name already exists).\n",
      "Could not add dataset: Unable to create link (name already exists).\n",
      "Could not add dataset: Unable to create link (name already exists).\n",
      "Could not add dataset: Unable to create link (name already exists).\n"
     ]
    },
    {
     "name": "stderr",
     "output_type": "stream",
     "text": [
      " ███████████████████░░░░░░░░░░░░░░░░░░░░░░░░░░░░░░░  38% ETA 0:00:01"
     ]
    },
    {
     "name": "stdout",
     "output_type": "stream",
     "text": [
      "Could not add dataset: Unable to create link (name already exists).\n",
      "Could not add dataset: Unable to create link (name already exists).\n",
      "Could not add dataset: Unable to create link (name already exists).\n",
      "Could not add dataset: Unable to create link (name already exists).\n",
      "Could not add dataset: Unable to create link (name already exists).\n",
      "Could not add dataset: Unable to create link (name already exists).\n",
      "Could not add dataset: Unable to create link (name already exists).\n",
      "Could not add dataset: Unable to create link (name already exists).\n",
      "Could not add dataset: Unable to create link (name already exists).\n",
      "Could not add dataset: Unable to create link (name already exists).\n",
      "Could not add dataset: Unable to create link (name already exists).\n",
      "Could not add dataset: Unable to create link (name already exists).\n",
      "Could not add dataset: Unable to create link (name already exists).\n",
      "Could not add dataset: Unable to create link (name already exists).\n",
      "Could not add dataset: Unable to create link (name already exists).\n",
      "Could not add dataset: Unable to create link (name already exists).\n",
      "Could not add dataset: Unable to create link (name already exists).\n",
      "Could not add dataset: Unable to create link (name already exists).\n",
      "Could not add dataset: Unable to create link (name already exists).\n",
      "Could not add dataset: Unable to create link (name already exists).\n"
     ]
    },
    {
     "name": "stderr",
     "output_type": "stream",
     "text": [
      " ██████████████████████████████████████████████████ 100% ETA 0:00:00\n"
     ]
    },
    {
     "name": "stdout",
     "output_type": "stream",
     "text": [
      "Could not add dataset: Unable to create link (name already exists).\n",
      "Could not add dataset: Unable to create link (name already exists).\n",
      "Could not add dataset: Unable to create link (name already exists).\n",
      "Could not add dataset: Unable to create link (name already exists).\n",
      "Could not add dataset: Unable to create link (name already exists).\n",
      "Could not add dataset: Unable to create link (name already exists).\n",
      "Could not add dataset: Unable to create link (name already exists).\n",
      "Could not add dataset: Unable to create link (name already exists).\n",
      "Could not add dataset: Unable to create link (name already exists).\n",
      "Could not add dataset: Unable to create link (name already exists).\n",
      "Could not add dataset: Unable to create link (name already exists).\n",
      "Could not add dataset: Unable to create link (name already exists).\n",
      "Could not add dataset: Unable to create link (name already exists).\n",
      "Could not add dataset: Unable to create link (name already exists).\n",
      "Could not add dataset: Unable to create link (name already exists).\n",
      "Could not add dataset: Unable to create link (name already exists).\n",
      "Could not add dataset: Unable to create link (name already exists).\n",
      "Could not add dataset: Unable to create link (name already exists).\n",
      "Could not add dataset: Unable to create link (name already exists).\n",
      "Could not add dataset: Unable to create link (name already exists).\n",
      "Could not add dataset: Unable to create link (name already exists).\n",
      "Could not add dataset: Unable to create link (name already exists).\n",
      "Could not add dataset: Unable to create link (name already exists).\n",
      "Could not add dataset: Unable to create link (name already exists).\n",
      "Could not add dataset: Unable to create link (name already exists).\n",
      "Could not add dataset: Unable to create link (name already exists).\n",
      "Could not add dataset: Unable to create link (name already exists).\n",
      "Could not add dataset: Unable to create link (name already exists).\n",
      "Could not add dataset: Unable to create link (name already exists).\n",
      "Could not add dataset: Unable to create link (name already exists).\n",
      "Could not add dataset: Unable to create link (name already exists).\n",
      "Could not add dataset: Unable to create link (name already exists).\n",
      "Could not add dataset: Unable to create link (name already exists).\n",
      "Could not add dataset: Unable to create link (name already exists).\n",
      "Could not add dataset: Unable to create link (name already exists).\n",
      "Could not add dataset: Unable to create link (name already exists).\n",
      "Could not add dataset: Unable to create link (name already exists).\n",
      "Could not add dataset: Unable to create link (name already exists).\n",
      "Could not add dataset: Unable to create link (name already exists).\n",
      "Could not add dataset: Unable to create link (name already exists).\n",
      "Could not add dataset: Unable to create link (name already exists).\n",
      "Could not add dataset: Unable to create link (name already exists).\n",
      "Could not add dataset: Unable to create link (name already exists).\n",
      "Could not add dataset: Unable to create link (name already exists).\n",
      "Could not add dataset: Unable to create link (name already exists).\n",
      "Could not add dataset: Unable to create link (name already exists).\n",
      "Could not add dataset: Unable to create link (name already exists).\n",
      "Could not add dataset: Unable to create link (name already exists).\n",
      "Could not add dataset: Unable to create link (name already exists).\n"
     ]
    },
    {
     "name": "stderr",
     "output_type": "stream",
     "text": [
      " ██░░░░░░░░░░░░░░░░░░░░░░░░░░░░░░░░░░░░░░░░░░░░░░░░   5% ETA 0:00:06"
     ]
    },
    {
     "name": "stdout",
     "output_type": "stream",
     "text": [
      "Could not add dataset: Unable to create link (name already exists).\n",
      "Could not add dataset: Unable to create link (name already exists).\n",
      "Could not add dataset: Unable to create link (name already exists).\n",
      "Could not add dataset: Unable to create link (name already exists).\n"
     ]
    },
    {
     "name": "stderr",
     "output_type": "stream",
     "text": [
      " █████████░░░░░░░░░░░░░░░░░░░░░░░░░░░░░░░░░░░░░░░░░  19% ETA 0:00:02"
     ]
    },
    {
     "name": "stdout",
     "output_type": "stream",
     "text": [
      "Could not add dataset: Unable to create link (name already exists).\n",
      "Could not add dataset: Unable to create link (name already exists).\n",
      "Could not add dataset: Unable to create link (name already exists).\n",
      "Could not add dataset: Unable to create link (name already exists).\n",
      "Could not add dataset: Unable to create link (name already exists).\n",
      "Could not add dataset: Unable to create link (name already exists).\n",
      "Could not add dataset: Unable to create link (name already exists).\n",
      "Could not add dataset: Unable to create link (name already exists).\n",
      "Could not add dataset: Unable to create link (name already exists).\n",
      "Could not add dataset: Unable to create link (name already exists).\n",
      "Could not add dataset: Unable to create link (name already exists).\n",
      "Could not add dataset: Unable to create link (name already exists).\n"
     ]
    },
    {
     "name": "stderr",
     "output_type": "stream",
     "text": [
      " ██████████████░░░░░░░░░░░░░░░░░░░░░░░░░░░░░░░░░░░░  28% ETA 0:00:02"
     ]
    },
    {
     "name": "stdout",
     "output_type": "stream",
     "text": [
      "Could not add dataset: Unable to create link (name already exists).\n",
      "Could not add dataset: Unable to create link (name already exists).\n",
      "Could not add dataset: Unable to create link (name already exists).\n",
      "Could not add dataset: Unable to create link (name already exists).\n",
      "Could not add dataset: Unable to create link (name already exists).\n",
      "Could not add dataset: Unable to create link (name already exists).\n",
      "Could not add dataset: Unable to create link (name already exists).\n"
     ]
    },
    {
     "name": "stderr",
     "output_type": "stream",
     "text": [
      " █████████████████████████████████████░░░░░░░░░░░░░  74% ETA 0:00:00"
     ]
    },
    {
     "name": "stdout",
     "output_type": "stream",
     "text": [
      "Could not add dataset: Unable to create link (name already exists).\n",
      "Could not add dataset: Unable to create link (name already exists).\n",
      "Could not add dataset: Unable to create link (name already exists).\n",
      "Could not add dataset: Unable to create link (name already exists).\n",
      "Could not add dataset: Unable to create link (name already exists).\n",
      "Could not add dataset: Unable to create link (name already exists).\n",
      "Could not add dataset: Unable to create link (name already exists).\n",
      "Could not add dataset: Unable to create link (name already exists).\n",
      "Could not add dataset: Unable to create link (name already exists).\n",
      "Could not add dataset: Unable to create link (name already exists).\n",
      "Could not add dataset: Unable to create link (name already exists).\n",
      "Could not add dataset: Unable to create link (name already exists).\n",
      "Could not add dataset: Unable to create link (name already exists).\n",
      "Could not add dataset: Unable to create link (name already exists).\n",
      "Could not add dataset: Unable to create link (name already exists).\n",
      "Could not add dataset: Unable to create link (name already exists).\n",
      "Could not add dataset: Unable to create link (name already exists).\n",
      "Could not add dataset: Unable to create link (name already exists).\n",
      "Could not add dataset: Unable to create link (name already exists).\n",
      "Could not add dataset: Unable to create link (name already exists).\n",
      "Could not add dataset: Unable to create link (name already exists).\n",
      "Could not add dataset: Unable to create link (name already exists).\n",
      "Could not add dataset: Unable to create link (name already exists).\n",
      "Could not add dataset: Unable to create link (name already exists).\n",
      "Could not add dataset: Unable to create link (name already exists).\n",
      "Could not add dataset: Unable to create link (name already exists).\n",
      "Could not add dataset: Unable to create link (name already exists).\n",
      "Could not add dataset: Unable to create link (name already exists).\n",
      "Could not add dataset: Unable to create link (name already exists).\n",
      "Could not add dataset: Unable to create link (name already exists).\n",
      "Could not add dataset: Unable to create link (name already exists).\n",
      "Could not add dataset: Unable to create link (name already exists).\n",
      "Could not add dataset: Unable to create link (name already exists).\n",
      "Could not add dataset: Unable to create link (name already exists).\n",
      "Could not add dataset: Unable to create link (name already exists).\n",
      "Could not add dataset: Unable to create link (name already exists).\n",
      "Could not add dataset: Unable to create link (name already exists).\n",
      "Could not add dataset: Unable to create link (name already exists).\n",
      "Could not add dataset: Unable to create link (name already exists).\n"
     ]
    },
    {
     "name": "stderr",
     "output_type": "stream",
     "text": [
      " ██████████████████████████████████████████████████ 100% ETA 0:00:00\n"
     ]
    },
    {
     "name": "stdout",
     "output_type": "stream",
     "text": [
      "Could not add dataset: Unable to create link (name already exists).\n",
      "Could not add dataset: Unable to create link (name already exists).\n",
      "Could not add dataset: Unable to create link (name already exists).\n",
      "Could not add dataset: Unable to create link (name already exists).\n",
      "Could not add dataset: Unable to create link (name already exists).\n",
      "Could not add dataset: Unable to create link (name already exists).\n",
      "Could not add dataset: Unable to create link (name already exists).\n",
      "Could not add dataset: Unable to create link (name already exists).\n",
      "Could not add dataset: Unable to create link (name already exists).\n",
      "Could not add dataset: Unable to create link (name already exists).\n",
      "Could not add dataset: Unable to create link (name already exists).\n",
      "Could not add dataset: Unable to create link (name already exists).\n",
      "Could not add dataset: Unable to create link (name already exists).\n",
      "Could not add dataset: Unable to create link (name already exists).\n",
      "Could not add dataset: Unable to create link (name already exists).\n",
      "Could not add dataset: Unable to create link (name already exists).\n",
      "Could not add dataset: Unable to create link (name already exists).\n",
      "Could not add dataset: Unable to create link (name already exists).\n",
      "Could not add dataset: Unable to create link (name already exists).\n"
     ]
    },
    {
     "name": "stderr",
     "output_type": "stream",
     "text": [
      " ██░░░░░░░░░░░░░░░░░░░░░░░░░░░░░░░░░░░░░░░░░░░░░░░░   5% ETA 0:00:05"
     ]
    },
    {
     "name": "stdout",
     "output_type": "stream",
     "text": [
      "Could not add dataset: Unable to create link (name already exists).\n",
      "Could not add dataset: Unable to create link (name already exists).\n",
      "Could not add dataset: Unable to create link (name already exists).\n",
      "Could not add dataset: Unable to create link (name already exists).\n"
     ]
    },
    {
     "name": "stderr",
     "output_type": "stream",
     "text": [
      " ████░░░░░░░░░░░░░░░░░░░░░░░░░░░░░░░░░░░░░░░░░░░░░░   9% ETA 0:00:05"
     ]
    },
    {
     "name": "stdout",
     "output_type": "stream",
     "text": [
      "Could not add dataset: Unable to create link (name already exists).\n",
      "Could not add dataset: Unable to create link (name already exists).\n",
      "Could not add dataset: Unable to create link (name already exists).\n",
      "Could not add dataset: Unable to create link (name already exists).\n"
     ]
    },
    {
     "name": "stderr",
     "output_type": "stream",
     "text": [
      " ████████████████░░░░░░░░░░░░░░░░░░░░░░░░░░░░░░░░░░  32% ETA 0:00:01"
     ]
    },
    {
     "name": "stdout",
     "output_type": "stream",
     "text": [
      "Could not add dataset: Unable to create link (name already exists).\n",
      "Could not add dataset: Unable to create link (name already exists).\n",
      "Could not add dataset: Unable to create link (name already exists).\n",
      "Could not add dataset: Unable to create link (name already exists).\n",
      "Could not add dataset: Unable to create link (name already exists).\n",
      "Could not add dataset: Unable to create link (name already exists).\n",
      "Could not add dataset: Unable to create link (name already exists).\n",
      "Could not add dataset: Unable to create link (name already exists).\n",
      "Could not add dataset: Unable to create link (name already exists).\n",
      "Could not add dataset: Unable to create link (name already exists).\n",
      "Could not add dataset: Unable to create link (name already exists).\n",
      "Could not add dataset: Unable to create link (name already exists).\n",
      "Could not add dataset: Unable to create link (name already exists).\n",
      "Could not add dataset: Unable to create link (name already exists).\n",
      "Could not add dataset: Unable to create link (name already exists).\n",
      "Could not add dataset: Unable to create link (name already exists).\n",
      "Could not add dataset: Unable to create link (name already exists).\n",
      "Could not add dataset: Unable to create link (name already exists).\n",
      "Could not add dataset: Unable to create link (name already exists).\n",
      "Could not add dataset: Unable to create link (name already exists).\n"
     ]
    },
    {
     "name": "stderr",
     "output_type": "stream",
     "text": [
      " ██████████████████████████████████████████████████ 100% ETA 0:00:00"
     ]
    },
    {
     "name": "stdout",
     "output_type": "stream",
     "text": [
      "Could not add dataset: Unable to create link (name already exists).\n",
      "Could not add dataset: Unable to create link (name already exists).\n",
      "Could not add dataset: Unable to create link (name already exists).\n",
      "Could not add dataset: Unable to create link (name already exists).\n",
      "Could not add dataset: Unable to create link (name already exists).\n",
      "Could not add dataset: Unable to create link (name already exists).\n",
      "Could not add dataset: Unable to create link (name already exists).\n",
      "Could not add dataset: Unable to create link (name already exists).\n",
      "Could not add dataset: Unable to create link (name already exists).\n",
      "Could not add dataset: Unable to create link (name already exists).\n",
      "Could not add dataset: Unable to create link (name already exists).\n",
      "Could not add dataset: Unable to create link (name already exists).\n",
      "Could not add dataset: Unable to create link (name already exists).\n",
      "Could not add dataset: Unable to create link (name already exists).\n",
      "Could not add dataset: Unable to create link (name already exists).\n",
      "Could not add dataset: Unable to create link (name already exists).\n",
      "Could not add dataset: Unable to create link (name already exists).\n",
      "Could not add dataset: Unable to create link (name already exists).\n",
      "Could not add dataset: Unable to create link (name already exists).\n",
      "Could not add dataset: Unable to create link (name already exists).\n",
      "Could not add dataset: Unable to create link (name already exists).\n",
      "Could not add dataset: Unable to create link (name already exists).\n",
      "Could not add dataset: Unable to create link (name already exists).\n",
      "Could not add dataset: Unable to create link (name already exists).\n",
      "Could not add dataset: Unable to create link (name already exists).\n",
      "Could not add dataset: Unable to create link (name already exists).\n",
      "Could not add dataset: Unable to create link (name already exists).\n",
      "Could not add dataset: Unable to create link (name already exists).\n",
      "Could not add dataset: Unable to create link (name already exists).\n",
      "Could not add dataset: Unable to create link (name already exists).\n",
      "Could not add dataset: Unable to create link (name already exists).\n",
      "Could not add dataset: Unable to create link (name already exists).\n",
      "Could not add dataset: Unable to create link (name already exists).\n",
      "Could not add dataset: Unable to create link (name already exists).\n",
      "Could not add dataset: Unable to create link (name already exists).\n",
      "Could not add dataset: Unable to create link (name already exists).\n",
      "Could not add dataset: Unable to create link (name already exists).\n",
      "Could not add dataset: Unable to create link (name already exists).\n",
      "Could not add dataset: Unable to create link (name already exists).\n",
      "Could not add dataset: Unable to create link (name already exists).\n",
      "Could not add dataset: Unable to create link (name already exists).\n",
      "Could not add dataset: Unable to create link (name already exists).\n",
      "Could not add dataset: Unable to create link (name already exists).\n",
      "Could not add dataset: Unable to create link (name already exists).\n",
      "Could not add dataset: Unable to create link (name already exists).\n",
      "Could not add dataset: Unable to create link (name already exists).\n",
      "Could not add dataset: Unable to create link (name already exists).\n",
      "Could not add dataset: Unable to create link (name already exists).\n",
      "Could not add dataset: Unable to create link (name already exists).\n",
      "Could not add dataset: Unable to create link (name already exists).\n",
      "Could not add dataset: Unable to create link (name already exists).\n",
      "Could not add dataset: Unable to create link (name already exists).\n",
      "Could not add dataset: Unable to create link (name already exists).\n"
     ]
    },
    {
     "name": "stderr",
     "output_type": "stream",
     "text": [
      "\n",
      " ██████████████████████████████████████████████████ 100% ETA 0:00:00\n"
     ]
    }
   ],
   "source": [
    "damask_results.add_Cauchy()\n",
    "damask_results.add_strain_tensor()\n",
    "damask_results.add_Mises('sigma')\n",
    "damask_results.add_Mises('epsilon_V^0.0(F)')\n",
    "damask_results.add_calculation('avg_sigma',\"np.average(#sigma_vM#)\")\n",
    "damask_results.add_calculation('avg_epsilon',\"np.average(#epsilon_V^0.0(F)_vM#)\")\n",
    "damask_results.save_vtk(['sigma','epsilon_V^0.0(F)','sigma_vM','epsilon_V^0.0(F)_vM'])"
   ]
  },
  {
   "cell_type": "code",
   "execution_count": 14,
   "metadata": {},
   "outputs": [
    {
     "name": "stderr",
     "output_type": "stream",
     "text": [
      "/srv/conda/envs/notebook/lib/python3.7/site-packages/ipykernel_launcher.py:97: H5pyDeprecationWarning: The default file mode will change to 'r' (read-only) in h5py 3.0. To suppress this warning, pass the mode you need to h5py.File(), or set the global default h5.get_config().default_file_mode, or set the environment variable H5PY_DEFAULT_READONLY=1. Available modes are: 'r', 'r+', 'w', 'w-'/'x', 'a'. See the docs for details.\n"
     ]
    },
    {
     "data": {
      "text/plain": [
       "array([9.00410083e-12, 1.92708289e+01, 3.85620251e+01, 5.73577154e+01,\n",
       "       6.84940533e+01, 7.30485177e+01, 7.55024618e+01, 7.72823816e+01,\n",
       "       7.87604622e+01, 8.00280194e+01, 8.11269630e+01, 8.20720459e+01,\n",
       "       8.28833720e+01, 8.35781218e+01, 8.41765652e+01, 8.46934781e+01,\n",
       "       8.51447138e+01, 8.55418707e+01, 8.58943643e+01, 8.62099729e+01,\n",
       "       8.64935503e+01, 8.67506011e+01, 8.69841622e+01, 8.71976855e+01,\n",
       "       8.73933917e+01, 8.75737825e+01, 8.77407662e+01, 8.78958898e+01,\n",
       "       8.80406147e+01, 8.81761327e+01, 8.83020858e+01, 8.84241085e+01,\n",
       "       8.85349555e+01, 8.86432696e+01, 8.87467958e+01, 8.88417595e+01,\n",
       "       8.89355132e+01, 8.90219998e+01, 8.91097216e+01, 8.91894900e+01,\n",
       "       8.92682041e+01, 8.93416891e+01, 8.94154582e+01, 8.94855219e+01,\n",
       "       8.95567227e+01, 8.96221758e+01, 8.96865188e+01, 8.97475241e+01,\n",
       "       8.98090793e+01, 8.98683906e+01, 8.99272648e+01, 8.99839222e+01,\n",
       "       9.00400803e+01, 9.00945998e+01, 9.01486411e+01, 9.02013205e+01,\n",
       "       9.02534802e+01, 9.03044696e+01, 9.03549664e+01, 9.04044500e+01,\n",
       "       9.04534886e+01, 9.05016365e+01, 9.05493886e+01, 9.05963499e+01,\n",
       "       9.06429622e+01, 9.06888664e+01, 9.07344640e+01, 9.07794220e+01,\n",
       "       9.08241115e+01, 9.08682190e+01, 9.09120912e+01, 9.09554308e+01,\n",
       "       9.09985643e+01, 9.10412073e+01, 9.10836700e+01, 9.11256786e+01,\n",
       "       9.11675294e+01, 9.12089579e+01, 9.12502483e+01, 9.12911441e+01,\n",
       "       9.13319192e+01])"
      ]
     },
     "execution_count": 14,
     "metadata": {},
     "output_type": "execute_result"
    }
   ],
   "source": [
    "job.eval_stress()"
   ]
  },
  {
   "cell_type": "code",
   "execution_count": 15,
   "metadata": {},
   "outputs": [
    {
     "name": "stderr",
     "output_type": "stream",
     "text": [
      "/srv/conda/envs/notebook/lib/python3.7/site-packages/ipykernel_launcher.py:116: H5pyDeprecationWarning: The default file mode will change to 'r' (read-only) in h5py 3.0. To suppress this warning, pass the mode you need to h5py.File(), or set the global default h5.get_config().default_file_mode, or set the environment variable H5PY_DEFAULT_READONLY=1. Available modes are: 'r', 'r+', 'w', 'w-'/'x', 'a'. See the docs for details.\n"
     ]
    },
    {
     "data": {
      "text/plain": [
       "array([0.        , 0.00022344, 0.00044684, 0.00067121, 0.00091067,\n",
       "       0.00116786, 0.00143406, 0.00170477, 0.00197811, 0.00225313,\n",
       "       0.00252936, 0.00280644, 0.00308417, 0.00336238, 0.00364098,\n",
       "       0.00391985, 0.00419895, 0.00447822, 0.00475761, 0.00503711,\n",
       "       0.00531666, 0.00559626, 0.00587589, 0.00615552, 0.00643515,\n",
       "       0.00671478, 0.00699438, 0.00727396, 0.00755352, 0.00783305,\n",
       "       0.00811254, 0.00839201, 0.00867141, 0.00895077, 0.00923011,\n",
       "       0.0095094 , 0.00978863, 0.01006782, 0.01034694, 0.01062602,\n",
       "       0.01090504, 0.01118402, 0.01146294, 0.01174184, 0.01202061,\n",
       "       0.01229936, 0.01257804, 0.01285667, 0.01313526, 0.01341379,\n",
       "       0.01369225, 0.01397065, 0.01424898, 0.01452726, 0.01480547,\n",
       "       0.01508361, 0.01536169, 0.01563971, 0.01591766, 0.01619555,\n",
       "       0.01647337, 0.01675112, 0.01702881, 0.01730643, 0.01758398,\n",
       "       0.01786147, 0.01813889, 0.01841624, 0.01869353, 0.01897074,\n",
       "       0.01924789, 0.01952497, 0.01980198, 0.02007892, 0.02035579,\n",
       "       0.02063259, 0.02090932, 0.02118599, 0.02146258, 0.0217391 ,\n",
       "       0.02201556])"
      ]
     },
     "execution_count": 15,
     "metadata": {},
     "output_type": "execute_result"
    }
   ],
   "source": [
    "job.eval_strain()"
   ]
  }
 ],
 "metadata": {
  "kernelspec": {
   "display_name": "Python 3",
   "language": "python",
   "name": "python3"
  },
  "language_info": {
   "codemirror_mode": {
    "name": "ipython",
    "version": 3
   },
   "file_extension": ".py",
   "mimetype": "text/x-python",
   "name": "python",
   "nbconvert_exporter": "python",
   "pygments_lexer": "ipython3",
   "version": "3.7.8"
  }
 },
 "nbformat": 4,
 "nbformat_minor": 4
}
