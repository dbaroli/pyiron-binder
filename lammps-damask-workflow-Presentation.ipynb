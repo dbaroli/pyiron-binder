{
 "cells": [
  {
   "cell_type": "markdown",
   "metadata": {},
   "source": [
    "# Concentration dependent elastic constants\n",
    "\n",
    "Here we demonstrate the new `SQSElasticConstantsList` job, which gets elastic constants as a function of chemical composition.\n",
    "\n",
    "This job works by using special quasirandom structures (implemented by Dominik Gehringer and Jan Janssen) to create cells with the requested chemical composition from a base crystal structure. These are then evaluated for their elastic constants (implemented by Yuri Lysogorskiy). These are fully relaxed and the basic output is the chemical composition and full 6x6 elastic matrix. (More detailed output is available from the underlying `SQSElasticConstants` job stored in HDF5, but user-friendly bindings are not currently implemented.)\n",
    "\n",
    "These components were assembled together in a single job (implemented by Liam Huber) that takes a list of dictionaries giving the desired chemical compositions (e.g. `{'Al': 0.95, 'Mg': 0.04, '0': 0.01}` for 95% Aluminium 4% Magnesium and 1% vacancies) and three reference jobs: a `ref_ham` which says how the structures should be interpreted for forces and energies (e.g. a Lammps job with a particular potential) -- the structure of this job provides the base crystal upon which the chemical compositions are imposed -- and `ref_sqs` and `ref_elastic` which hold the input parameters for the SQS and elastic constant calculation components.\n",
    "\n",
    "The current implementation only facilitates modal run modes and is not heavily tested. The example below takes less than 30 minutes on a single core, so for the purposes of demonstration this is not a serious limitation."
   ]
  },
  {
   "cell_type": "markdown",
   "metadata": {},
   "source": [
    "**some instruction before running this notebook**  \n",
    "Please first, make sure you have configure pyiron. you can symply run.\n",
    "```\n",
    "import pyiron\n",
    "pyiron.install()# then input yes\n",
    "```  \n",
    "Then you need to build lammps. I suggest to clone lammps repository and build it.\n",
    "```\n",
    "git clone lammps\n",
    "git checkout stable\n",
    "cd src\n",
    "make serial\n",
    "cp lmp_serial ~/pyiron/resources//pyiron/resources/lammps/bin\n",
    "```  \n",
    "Then you need to clone pyiron repository\n",
    "```\n",
    "git clone https://github.com/pyiron/pyiron <the path to save pyiron repository>\n",
    "```\n",
    "Finally place this notebook and the enclosing notebook inside `pyiron/projects/`\n",
    "```\n",
    "cp -r ../from_liam ~/pyiron/projects/\n",
    "```\n",
    "Then run this notebook from there :)\n"
   ]
  },
  {
   "cell_type": "code",
   "execution_count": 1,
   "metadata": {},
   "outputs": [],
   "source": [
    "import sys\n",
    "#type(sys.path)"
   ]
  },
  {
   "cell_type": "code",
   "execution_count": 2,
   "metadata": {},
   "outputs": [],
   "source": [
    "sys.path = ['/home/pyiron_user/git-repo/pyiron']+sys.path #please replace this with <path of pyiron repository>"
   ]
  },
  {
   "cell_type": "code",
   "execution_count": 3,
   "metadata": {},
   "outputs": [
    {
     "name": "stdout",
     "output_type": "stream",
     "text": [
      "['/home/pyiron_user/pyiron/projects/from_liam', '/home/pyiron_user/git-repo/pyiron', '/opt/conda/lib/python38.zip', '/opt/conda/lib/python3.8', '/opt/conda/lib/python3.8/lib-dynload', '', '/opt/conda/lib/python3.8/site-packages', '/opt/conda/lib/python3.8/site-packages/IPython/extensions', '/home/pyiron_user/.ipython']\n"
     ]
    }
   ],
   "source": [
    "sys.path[0]='/home/pyiron_user/pyiron/projects/from_liam' #please replace this with <path to this notebook> probably ~/pyiron/projects/from_liam/\n",
    "sys.path[1]='/home/pyiron_user/git-repo/pyiron' #please replace this with <path of pyiron repository> \n",
    "print(sys.path)"
   ]
  },
  {
   "cell_type": "code",
   "execution_count": 4,
   "metadata": {
    "ExecuteTime": {
     "end_time": "2020-10-05T07:58:05.296301Z",
     "start_time": "2020-10-05T07:58:00.839091Z"
    }
   },
   "outputs": [],
   "source": [
    "#!conda install -y --quiet seaborn\n",
    "from pyiron import Project\n",
    "import pyiron_mpie\n",
    "import numpy as np\n",
    "import matplotlib.pyplot as plt\n",
    "import seaborn as sns\n",
    "sns.set_context('talk')\n",
    "\n",
    "import sys\n",
    "sys.path.append('.')\n",
    "from sqselastic import SQSElasticConstantsList"
   ]
  },
  {
   "cell_type": "code",
   "execution_count": 5,
   "metadata": {
    "ExecuteTime": {
     "end_time": "2020-10-05T07:58:05.340298Z",
     "start_time": "2020-10-05T07:58:05.299253Z"
    }
   },
   "outputs": [],
   "source": [
    "pr = Project('elastic_pipeline')\n",
    "#pr.remove_jobs(recursive=True)"
   ]
  },
  {
   "cell_type": "markdown",
   "metadata": {},
   "source": [
    "## Run the calculation\n",
    "\n",
    "Our test system will be Al with dilute Mg (up to 2%). Here we define the reference jobs, give our desired compositions.\n",
    "\n",
    "Feedback on the most user-friendly way to take chemical composition input (while still being fully flexible in allowed compositions!) is welcome -- this code is still in development."
   ]
  },
  {
   "cell_type": "code",
   "execution_count": 6,
   "metadata": {
    "ExecuteTime": {
     "end_time": "2020-10-05T08:18:10.747139Z",
     "start_time": "2020-10-05T07:58:05.472926Z"
    }
   },
   "outputs": [
    {
     "name": "stderr",
     "output_type": "stream",
     "text": [
      "2020-10-28 20:09:39,967 - pyiron_log - WARNING - The job chemical is being loaded instead of running. To re-run use the argument 'delete_existing_job=True in create_job'\n"
     ]
    }
   ],
   "source": [
    "lammps = pr.create_job(pr.job_type.Lammps, 'lammps')\n",
    "lammps.structure = pr.create_ase_bulk('Al', cubic=True).repeat(5)\n",
    "lammps.potential = 'Al_Mg_eam_fs'\n",
    "\n",
    "# sqs = pr.create_job(pr.job_type.SQSJob, 'sqs')\n",
    "# sqs.structure = lammps.structure.copy()\n",
    "# sqs.input.mole_fractions = {'Al': 0.98, 'Mg':0.02}\n",
    "# sqs.run() \n",
    "sqs = pr.create_job(pr.job_type.SQSJob, 'sqs')\n",
    "sqs.input.iterations = 1000\n",
    "sqs.input.weights = None\n",
    "sqs.input.n_output_structures = 1  # SQSJob Bug?: only 1 structure is being used regardless\n",
    "\n",
    "elastic = pr.create_job(pr.job_type.ElasticMatrixJob, 'elastic')\n",
    "elastic.input['num_of_points'] = 5\n",
    "elastic.input['fit_order'] = 2\n",
    "elastic.input['eps_range'] = 0.005\n",
    "elastic.input['relax_atoms'] = True\n",
    "elastic.input['sqrt_eta'] = True\n",
    "# TODO: Get an updated version of ElasticMatrixJob that is public and uses InputList\n",
    "\n",
    "job = pr.create_job(SQSElasticConstantsList, 'chemical')\n",
    "job.ref_ham = lammps\n",
    "job.ref_sqs = sqs\n",
    "job.ref_elastic = elastic\n",
    "job.input.chemistry = [\n",
    "    {'Al': 1., 'Mg': 0.}, \n",
    "    {'Al': 0.995, 'Mg': 0.005}, \n",
    "    {'Al': 0.99, 'Mg': 0.01}, \n",
    "    {'Al': 0.985, 'Mg': 0.015}, \n",
    "    {'Al': 0.98, 'Mg': 0.02}, \n",
    "]\n",
    "\n",
    "job.run()\n",
    "# TODO: Test submitting a job on the server.\n",
    "# Settings here take 20 minutes on a single core"
   ]
  },
  {
   "cell_type": "markdown",
   "metadata": {},
   "source": [
    "## post-processing the data\n",
    "\n",
    "The output of the job is stored to HDF5. To verify this, and since the actual calculation may be done at a different time than the results are analyzed, we demonstrate this by loading the job.\n",
    "\n",
    "There is also a little bit of annoying post-processing to get it all formatted as nice numpy arrays. Some of this is reasonable (like the need to explicitly add 0% Mg to the first chemistry -- we wouldn't want to list *everything that's not there*!), some is \"not my fault\" (like the way the InputList class mangles our chemistry dictionary on saving it to HDF), and some needs nicer helper functions in the future (like the ability to explicity ask for \"C12\" and get it by that string)."
   ]
  },
  {
   "cell_type": "code",
   "execution_count": 7,
   "metadata": {
    "ExecuteTime": {
     "end_time": "2020-10-05T08:18:13.308496Z",
     "start_time": "2020-10-05T08:18:10.784071Z"
    }
   },
   "outputs": [],
   "source": [
    "loaded = pr.load('chemical')  # Job saves and loads fine"
   ]
  },
  {
   "cell_type": "code",
   "execution_count": 8,
   "metadata": {
    "ExecuteTime": {
     "end_time": "2020-10-05T08:18:13.410860Z",
     "start_time": "2020-10-05T08:18:13.390833Z"
    }
   },
   "outputs": [],
   "source": [
    "loaded.output.chemistry[0]['Mg'] = 0.  # Add a zero Mg term to the pure-Al structure\n",
    "concentrations = np.array([\n",
    "    loaded.output.chemistry[int(i)]['Mg'] \n",
    "    for i in np.arange(len(loaded.output.chemistry))\n",
    "])\n",
    "# InputList 'feature': after saving to HDF, lists, dicts, etc get wrapped as \"InputList\"\n",
    "# This makes reading them a pain in the butt ^^\n",
    "elastic_matrices = np.array(loaded.output.elastic_matrices)\n",
    "C11_data = elastic_matrices[:, 0, 0]\n",
    "C12_data = elastic_matrices[:, 0, 1]\n",
    "C44_data = elastic_matrices[:, 3, 3]"
   ]
  },
  {
   "cell_type": "markdown",
   "metadata": {},
   "source": [
    "## Analysis\n",
    "\n",
    "Finally, let's use numpy to make a polynomial fit of our elastic constants to alloying concentration and visualize the results.\n",
    "\n",
    "Note: pure-Al data lines up very nicely with the pure Al elastic constants [reported on the NIST website for this potential](https://www.ctcms.nist.gov/potentials/entry/2009--Mendelev-M-I-Asta-M-Rahman-M-J-Hoyt-J-J--Al-Mg/2009--Mendelev-M-I--Al-Mg--LAMMPS--ipr1.html). I don't have a good sense for exactly what <2% Mg should be doing, but at least there are no sharp changes. Sanity check passed."
   ]
  },
  {
   "cell_type": "code",
   "execution_count": 9,
   "metadata": {
    "ExecuteTime": {
     "end_time": "2020-10-05T08:18:13.444764Z",
     "start_time": "2020-10-05T08:18:13.425319Z"
    }
   },
   "outputs": [],
   "source": [
    "fit_degree = 2\n",
    "C11_fit = np.polyfit(concentrations, C11_data, deg=fit_degree)\n",
    "C12_fit = np.polyfit(concentrations, C12_data, deg=fit_degree)\n",
    "C44_fit = np.polyfit(concentrations, C44_data, deg=fit_degree)\n",
    "c = np.linspace(concentrations.min(), concentrations.max(), 100)  # 'Continuous' concentration"
   ]
  },
  {
   "cell_type": "code",
   "execution_count": 10,
   "metadata": {
    "ExecuteTime": {
     "end_time": "2020-10-05T08:18:13.478125Z",
     "start_time": "2020-10-05T08:18:13.465417Z"
    }
   },
   "outputs": [
    {
     "name": "stdout",
     "output_type": "stream",
     "text": [
      "[3835.26298799  -89.78171797  110.34510588]\n",
      "[506.86040541 230.82117133  61.73911807]\n",
      "[135.24677091  45.19053689  32.72377752]\n"
     ]
    }
   ],
   "source": [
    "# p(x) = p[0] * x**deg + ... + p[deg]\n",
    "print(C11_fit)\n",
    "print(C12_fit)\n",
    "print(C44_fit)"
   ]
  },
  {
   "cell_type": "code",
   "execution_count": 11,
   "metadata": {
    "ExecuteTime": {
     "end_time": "2020-10-05T08:18:14.491958Z",
     "start_time": "2020-10-05T08:18:13.507439Z"
    }
   },
   "outputs": [
    {
     "data": {
      "image/png": "[encoded data removed]",
      "text/plain": [
       "<Figure size 432x288 with 1 Axes>"
      ]
     },
     "metadata": {
      "needs_background": "light"
     },
     "output_type": "display_data"
    }
   ],
   "source": [
    "for color, data, fit, label in zip(\n",
    "    sns.color_palette(n_colors=3), \n",
    "    [C11_data, C12_data, C44_data], \n",
    "    [C11_fit, C12_fit, C44_fit],\n",
    "    ['C11', 'C12', 'C44']\n",
    "):\n",
    "    plt.scatter(concentrations, data, color=color)\n",
    "    plt.plot(c, np.polyval(fit, c), color=color, label=label)\n",
    "plt.xlabel('Mg concentration')\n",
    "plt.ylabel('Elastic constant (GPa)')\n",
    "plt.legend()\n",
    "plt.show()"
   ]
  },
  {
   "cell_type": "markdown",
   "metadata": {},
   "source": [
    "# DAMASK Simulations\n",
    "The steps include, defining:\n",
    "- geometries\n",
    "- grains\n",
    "- loading\n",
    "- material properties based on the atomistically-evaluated \n",
    "- perfoming simulations"
   ]
  },
  {
   "cell_type": "code",
   "execution_count": 13,
   "metadata": {},
   "outputs": [],
   "source": [
    "concentrations=[0.,0.01,0.02]"
   ]
  },
  {
   "cell_type": "code",
   "execution_count": 14,
   "metadata": {},
   "outputs": [
    {
     "name": "stdout",
     "output_type": "stream",
     "text": [
      "Mg-0\n",
      "simulation 0 done\n",
      "Mg-1\n",
      "simulation 1 done\n",
      "Mg-2\n",
      "simulation 2 done\n"
     ]
    }
   ],
   "source": [
    "from damask import Geom\n",
    "from damask import seeds\n",
    "#import numpy as np\n",
    "import subprocess,shlex\n",
    "import os\n",
    "import damask\n",
    "from simulation_runner import simulation\n",
    "simulation_folder =[]\n",
    "job_file = []\n",
    "grid = np.array([16,16,16])\n",
    "size = np.array([1.0,1.0,1.0])\n",
    "grains = 20\n",
    "seeds = seeds.from_random(size,grains)\n",
    "for i,c in enumerate(concentrations):\n",
    "    os.chdir('/home/pyiron_user/pyiron/projects/from_liam/')\n",
    "    simulation_folder.append('Mg-{}'.format(int(c*100)))\n",
    "    os.system('mkdir {}'.format(simulation_folder[i]))\n",
    "    os.system('cp Examples/material.yaml {}'.format(simulation_folder[i]))\n",
    "    os.system('cp Examples/tensionX.load {}'.format(simulation_folder[i]))\n",
    "    C11 = float(np.polyval(C11_fit, c))\n",
    "    C12 = float(np.polyval(C12_fit, c))\n",
    "    C44 = float(np.polyval(C44_fit, c))\n",
    "    print(simulation_folder[i])\n",
    "    os.chdir(simulation_folder[i])\n",
    "    load = 'tensionX.load'\n",
    "    geom_name = 'test.geom'\n",
    "    material_config = 'material.yaml'\n",
    "    job_file.append('{}_{}.hdf5'.format(geom_name.split('.')[0],load.split('.')[0]))\n",
    "    new_geom = Geom.from_Voronoi_tessellation(grid,size,seeds)\n",
    "    new_geom.save_ASCII(geom_name)\n",
    "    new_geom.save(geom_name.split('.')[0])\n",
    "    C_matrix = [C11*1e9,C12*1e9,C44*1e9]\n",
    "    elasticity={}\n",
    "    elasticity.update({'type': 'hooke'})\n",
    "    elastic_constants = {'C_11': C_matrix[0], 'C_12': C_matrix[1], 'C_44': C_matrix[2]}\n",
    "    elasticity.update(elastic_constants)\n",
    "    mat = damask.Config.load(material_config)\n",
    "    mat['phase']['Aluminum']['elasticity'] = elasticity\n",
    "    mat.save(material_config)\n",
    "    simulation.run(simulation_folder[i],geom_name,load)\n",
    "    print('simulation {} done'.format(str(i)))\n",
    "    "
   ]
  },
  {
   "cell_type": "markdown",
   "metadata": {},
   "source": [
    "## Post-processing DAMASK simulations\n",
    "- Von-Mises stress for each case is calculated\n",
    "- The Stress-strain data is evaluated for each case\n"
   ]
  },
  {
   "cell_type": "code",
   "execution_count": 29,
   "metadata": {},
   "outputs": [
    {
     "name": "stderr",
     "output_type": "stream",
     "text": [
      " █░░░░░░░░░░░░░░░░░░░░░░░░░░░░░░░░░░░░░░░░░░░░░░░░░   2% ETA 0:00:04"
     ]
    },
    {
     "name": "stdout",
     "output_type": "stream",
     "text": [
      "Could not add dataset: Unable to create link (name already exists).\n",
      "Could not add dataset: Unable to create link (name already exists).\n"
     ]
    },
    {
     "name": "stderr",
     "output_type": "stream",
     "text": [
      "\r",
      " ██░░░░░░░░░░░░░░░░░░░░░░░░░░░░░░░░░░░░░░░░░░░░░░░░   5% ETA 0:00:10"
     ]
    },
    {
     "name": "stdout",
     "output_type": "stream",
     "text": [
      "Could not add dataset: Unable to create link (name already exists).\n",
      "Could not add dataset: Unable to create link (name already exists).\n"
     ]
    },
    {
     "name": "stderr",
     "output_type": "stream",
     "text": [
      " ██████████████████████████████████████████████████ 100% ETA 0:00:00\n"
     ]
    },
    {
     "name": "stdout",
     "output_type": "stream",
     "text": [
      "Could not add dataset: Unable to create link (name already exists).\n",
      "Could not add dataset: Unable to create link (name already exists).\n",
      "Could not add dataset: Unable to create link (name already exists).\n",
      "Could not add dataset: Unable to create link (name already exists).\n",
      "Could not add dataset: Unable to create link (name already exists).\n",
      "Could not add dataset: Unable to create link (name already exists).\n",
      "Could not add dataset: Unable to create link (name already exists).\n",
      "Could not add dataset: Unable to create link (name already exists).\n",
      "Could not add dataset: Unable to create link (name already exists).\n",
      "Could not add dataset: Unable to create link (name already exists).\n",
      "Could not add dataset: Unable to create link (name already exists).\n",
      "Could not add dataset: Unable to create link (name already exists).\n",
      "Could not add dataset: Unable to create link (name already exists).\n",
      "Could not add dataset: Unable to create link (name already exists).\n",
      "Could not add dataset: Unable to create link (name already exists).\n",
      "Could not add dataset: Unable to create link (name already exists).\n",
      "Could not add dataset: Unable to create link (name already exists).\n",
      "Could not add dataset: Unable to create link (name already exists).\n",
      "Could not add dataset: Unable to create link (name already exists).\n",
      "Could not add dataset: Unable to create link (name already exists).\n",
      "Could not add dataset: Unable to create link (name already exists).\n",
      "Could not add dataset: Unable to create link (name already exists).\n",
      "Could not add dataset: Unable to create link (name already exists).\n",
      "Could not add dataset: Unable to create link (name already exists).\n",
      "Could not add dataset: Unable to create link (name already exists).\n",
      "Could not add dataset: Unable to create link (name already exists).\n",
      "Could not add dataset: Unable to create link (name already exists).\n",
      "Could not add dataset: Unable to create link (name already exists).\n",
      "Could not add dataset: Unable to create link (name already exists).\n",
      "Could not add dataset: Unable to create link (name already exists).\n",
      "Could not add dataset: Unable to create link (name already exists).\n",
      "Could not add dataset: Unable to create link (name already exists).\n",
      "Could not add dataset: Unable to create link (name already exists).\n",
      "Could not add dataset: Unable to create link (name already exists).\n",
      "Could not add dataset: Unable to create link (name already exists).\n",
      "Could not add dataset: Unable to create link (name already exists).\n",
      "Could not add dataset: Unable to create link (name already exists).\n",
      "Could not add dataset: Unable to create link (name already exists).\n",
      "Could not add dataset: Unable to create link (name already exists).\n",
      "Could not add dataset: Unable to create link (name already exists).\n",
      "Could not add dataset: Unable to create link (name already exists).\n",
      "Could not add dataset: Unable to create link (name already exists).\n",
      "Could not add dataset: Unable to create link (name already exists).\n",
      "Could not add dataset: Unable to create link (name already exists).\n",
      "Could not add dataset: Unable to create link (name already exists).\n",
      "Could not add dataset: Unable to create link (name already exists).\n",
      "Could not add dataset: Unable to create link (name already exists).\n",
      "Could not add dataset: Unable to create link (name already exists).\n",
      "Could not add dataset: Unable to create link (name already exists).\n",
      "Could not add dataset: Unable to create link (name already exists).\n",
      "Could not add dataset: Unable to create link (name already exists).\n",
      "Could not add dataset: Unable to create link (name already exists).\n",
      "Could not add dataset: Unable to create link (name already exists).\n",
      "Could not add dataset: Unable to create link (name already exists).\n",
      "Could not add dataset: Unable to create link (name already exists).\n",
      "Could not add dataset: Unable to create link (name already exists).\n",
      "Could not add dataset: Unable to create link (name already exists).\n",
      "Could not add dataset: Unable to create link (name already exists).\n",
      "Could not add dataset: Unable to create link (name already exists).\n",
      "Could not add dataset: Unable to create link (name already exists).\n",
      "Could not add dataset: Unable to create link (name already exists).\n",
      "Could not add dataset: Unable to create link (name already exists).\n",
      "Could not add dataset: Unable to create link (name already exists).\n",
      "Could not add dataset: Unable to create link (name already exists).\n",
      "Could not add dataset: Unable to create link (name already exists).\n",
      "Could not add dataset: Unable to create link (name already exists).\n",
      "Could not add dataset: Unable to create link (name already exists).\n",
      "Could not add dataset: Unable to create link (name already exists).\n",
      "Could not add dataset: Unable to create link (name already exists).\n",
      "Could not add dataset: Unable to create link (name already exists).\n",
      "Could not add dataset: Unable to create link (name already exists).\n",
      "Could not add dataset: Unable to create link (name already exists).\n",
      "Could not add dataset: Unable to create link (name already exists).\n",
      "Could not add dataset: Unable to create link (name already exists).\n",
      "Could not add dataset: Unable to create link (name already exists).\n",
      "Could not add dataset: Unable to create link (name already exists).\n",
      "Could not add dataset: Unable to create link (name already exists).\n"
     ]
    },
    {
     "name": "stderr",
     "output_type": "stream",
     "text": [
      " ███░░░░░░░░░░░░░░░░░░░░░░░░░░░░░░░░░░░░░░░░░░░░░░░   6% ETA 0:00:04"
     ]
    },
    {
     "name": "stdout",
     "output_type": "stream",
     "text": [
      "Could not add dataset: Unable to create link (name already exists).\n",
      "Could not add dataset: Unable to create link (name already exists).\n",
      "Could not add dataset: Unable to create link (name already exists).\n",
      "Could not add dataset: Unable to create link (name already exists).\n",
      "Could not add dataset: Unable to create link (name already exists).\n"
     ]
    },
    {
     "name": "stderr",
     "output_type": "stream",
     "text": [
      " █████████░░░░░░░░░░░░░░░░░░░░░░░░░░░░░░░░░░░░░░░░░  19% ETA 0:00:03"
     ]
    },
    {
     "name": "stdout",
     "output_type": "stream",
     "text": [
      "Could not add dataset: Unable to create link (name already exists).\n",
      "Could not add dataset: Unable to create link (name already exists).\n",
      "Could not add dataset: Unable to create link (name already exists).\n",
      "Could not add dataset: Unable to create link (name already exists).\n",
      "Could not add dataset: Unable to create link (name already exists).\n",
      "Could not add dataset: Unable to create link (name already exists).\n",
      "Could not add dataset: Unable to create link (name already exists).\n",
      "Could not add dataset: Unable to create link (name already exists).\n",
      "Could not add dataset: Unable to create link (name already exists).\n",
      "Could not add dataset: Unable to create link (name already exists).\n"
     ]
    },
    {
     "name": "stderr",
     "output_type": "stream",
     "text": [
      " ████████████████████░░░░░░░░░░░░░░░░░░░░░░░░░░░░░░  41% ETA 0:00:01"
     ]
    },
    {
     "name": "stdout",
     "output_type": "stream",
     "text": [
      "Could not add dataset: Unable to create link (name already exists).\n",
      "Could not add dataset: Unable to create link (name already exists).\n",
      "Could not add dataset: Unable to create link (name already exists).\n",
      "Could not add dataset: Unable to create link (name already exists).\n",
      "Could not add dataset: Unable to create link (name already exists).\n",
      "Could not add dataset: Unable to create link (name already exists).\n",
      "Could not add dataset: Unable to create link (name already exists).\n",
      "Could not add dataset: Unable to create link (name already exists).\n",
      "Could not add dataset: Unable to create link (name already exists).\n",
      "Could not add dataset: Unable to create link (name already exists).\n",
      "Could not add dataset: Unable to create link (name already exists).\n",
      "Could not add dataset: Unable to create link (name already exists).\n",
      "Could not add dataset: Unable to create link (name already exists).\n",
      "Could not add dataset: Unable to create link (name already exists).\n",
      "Could not add dataset: Unable to create link (name already exists).\n",
      "Could not add dataset: Unable to create link (name already exists).\n",
      "Could not add dataset: Unable to create link (name already exists).\n",
      "Could not add dataset: Unable to create link (name already exists).\n",
      "Could not add dataset: Unable to create link (name already exists).\n"
     ]
    },
    {
     "name": "stderr",
     "output_type": "stream",
     "text": [
      " ███████████████████████████████████████████░░░░░░░  86% ETA 0:00:00"
     ]
    },
    {
     "name": "stdout",
     "output_type": "stream",
     "text": [
      "Could not add dataset: Unable to create link (name already exists).\n",
      "Could not add dataset: Unable to create link (name already exists).\n",
      "Could not add dataset: Unable to create link (name already exists).\n",
      "Could not add dataset: Unable to create link (name already exists).\n",
      "Could not add dataset: Unable to create link (name already exists).\n",
      "Could not add dataset: Unable to create link (name already exists).\n",
      "Could not add dataset: Unable to create link (name already exists).\n",
      "Could not add dataset: Unable to create link (name already exists).\n",
      "Could not add dataset: Unable to create link (name already exists).\n",
      "Could not add dataset: Unable to create link (name already exists).\n",
      "Could not add dataset: Unable to create link (name already exists).\n",
      "Could not add dataset: Unable to create link (name already exists).\n",
      "Could not add dataset: Unable to create link (name already exists).\n",
      "Could not add dataset: Unable to create link (name already exists).\n",
      "Could not add dataset: Unable to create link (name already exists).\n",
      "Could not add dataset: Unable to create link (name already exists).\n",
      "Could not add dataset: Unable to create link (name already exists).\n",
      "Could not add dataset: Unable to create link (name already exists).\n",
      "Could not add dataset: Unable to create link (name already exists).\n",
      "Could not add dataset: Unable to create link (name already exists).\n",
      "Could not add dataset: Unable to create link (name already exists).\n",
      "Could not add dataset: Unable to create link (name already exists).\n",
      "Could not add dataset: Unable to create link (name already exists).\n",
      "Could not add dataset: Unable to create link (name already exists).\n",
      "Could not add dataset: Unable to create link (name already exists).\n",
      "Could not add dataset: Unable to create link (name already exists).\n",
      "Could not add dataset: Unable to create link (name already exists).\n",
      "Could not add dataset: Unable to create link (name already exists).\n",
      "Could not add dataset: Unable to create link (name already exists).\n",
      "Could not add dataset: Unable to create link (name already exists).\n",
      "Could not add dataset: Unable to create link (name already exists).\n",
      "Could not add dataset: Unable to create link (name already exists).\n",
      "Could not add dataset: Unable to create link (name already exists).\n",
      "Could not add dataset: Unable to create link (name already exists).\n",
      "Could not add dataset: Unable to create link (name already exists).\n",
      "Could not add dataset: Unable to create link (name already exists).\n"
     ]
    },
    {
     "name": "stderr",
     "output_type": "stream",
     "text": [
      " ██████████████████████████████████████████████████ 100% ETA 0:00:00\n"
     ]
    },
    {
     "name": "stdout",
     "output_type": "stream",
     "text": [
      "Could not add dataset: Unable to create link (name already exists).\n",
      "Could not add dataset: Unable to create link (name already exists).\n",
      "Could not add dataset: Unable to create link (name already exists).\n",
      "Could not add dataset: Unable to create link (name already exists).\n",
      "Could not add dataset: Unable to create link (name already exists).\n",
      "Could not add dataset: Unable to create link (name already exists).\n",
      "Could not add dataset: Unable to create link (name already exists).\n",
      "Could not add dataset: Unable to create link (name already exists).\n",
      "Could not add dataset: Unable to create link (name already exists).\n",
      "Could not add dataset: Unable to create link (name already exists).\n",
      "Could not add dataset: Unable to create link (name already exists).\n"
     ]
    },
    {
     "name": "stderr",
     "output_type": "stream",
     "text": [
      " ██░░░░░░░░░░░░░░░░░░░░░░░░░░░░░░░░░░░░░░░░░░░░░░░░   5% ETA 0:00:03"
     ]
    },
    {
     "name": "stdout",
     "output_type": "stream",
     "text": [
      "Could not add dataset: Unable to create link (name already exists).\n",
      "Could not add dataset: Unable to create link (name already exists).\n",
      "Could not add dataset: Unable to create link (name already exists).\n",
      "Could not add dataset: Unable to create link (name already exists).\n"
     ]
    },
    {
     "name": "stderr",
     "output_type": "stream",
     "text": [
      " ███████████████████████████░░░░░░░░░░░░░░░░░░░░░░░  54% ETA 0:00:00"
     ]
    },
    {
     "name": "stdout",
     "output_type": "stream",
     "text": [
      "Could not add dataset: Unable to create link (name already exists).\n",
      "Could not add dataset: Unable to create link (name already exists).\n",
      "Could not add dataset: Unable to create link (name already exists).\n",
      "Could not add dataset: Unable to create link (name already exists).\n",
      "Could not add dataset: Unable to create link (name already exists).\n",
      "Could not add dataset: Unable to create link (name already exists).\n",
      "Could not add dataset: Unable to create link (name already exists).\n",
      "Could not add dataset: Unable to create link (name already exists).\n",
      "Could not add dataset: Unable to create link (name already exists).\n",
      "Could not add dataset: Unable to create link (name already exists).\n",
      "Could not add dataset: Unable to create link (name already exists).\n",
      "Could not add dataset: Unable to create link (name already exists).\n",
      "Could not add dataset: Unable to create link (name already exists).\n",
      "Could not add dataset: Unable to create link (name already exists).\n",
      "Could not add dataset: Unable to create link (name already exists).\n",
      "Could not add dataset: Unable to create link (name already exists).\n",
      "Could not add dataset: Unable to create link (name already exists).\n",
      "Could not add dataset: Unable to create link (name already exists).\n",
      "Could not add dataset: Unable to create link (name already exists).\n",
      "Could not add dataset: Unable to create link (name already exists).\n",
      "Could not add dataset: Unable to create link (name already exists).\n",
      "Could not add dataset: Unable to create link (name already exists).\n",
      "Could not add dataset: Unable to create link (name already exists).\n",
      "Could not add dataset: Unable to create link (name already exists).\n",
      "Could not add dataset: Unable to create link (name already exists).\n",
      "Could not add dataset: Unable to create link (name already exists).\n",
      "Could not add dataset: Unable to create link (name already exists).\n",
      "Could not add dataset: Unable to create link (name already exists).\n",
      "Could not add dataset: Unable to create link (name already exists).\n",
      "Could not add dataset: Unable to create link (name already exists).\n",
      "Could not add dataset: Unable to create link (name already exists).\n",
      "Could not add dataset: Unable to create link (name already exists).\n",
      "Could not add dataset: Unable to create link (name already exists).\n",
      "Could not add dataset: Unable to create link (name already exists).\n",
      "Could not add dataset: Unable to create link (name already exists).\n",
      "Could not add dataset: Unable to create link (name already exists).\n",
      "Could not add dataset: Unable to create link (name already exists).\n",
      "Could not add dataset: Unable to create link (name already exists).\n",
      "Could not add dataset: Unable to create link (name already exists).\n",
      "Could not add dataset: Unable to create link (name already exists).\n"
     ]
    },
    {
     "name": "stderr",
     "output_type": "stream",
     "text": [
      " ██████████████████████████████████████████████████ 100% ETA 0:00:00\n"
     ]
    },
    {
     "name": "stdout",
     "output_type": "stream",
     "text": [
      "Could not add dataset: Unable to create link (name already exists).\n",
      "Could not add dataset: Unable to create link (name already exists).\n",
      "Could not add dataset: Unable to create link (name already exists).\n",
      "Could not add dataset: Unable to create link (name already exists).\n",
      "Could not add dataset: Unable to create link (name already exists).\n",
      "Could not add dataset: Unable to create link (name already exists).\n",
      "Could not add dataset: Unable to create link (name already exists).\n",
      "Could not add dataset: Unable to create link (name already exists).\n",
      "Could not add dataset: Unable to create link (name already exists).\n",
      "Could not add dataset: Unable to create link (name already exists).\n",
      "Could not add dataset: Unable to create link (name already exists).\n",
      "Could not add dataset: Unable to create link (name already exists).\n",
      "Could not add dataset: Unable to create link (name already exists).\n",
      "Could not add dataset: Unable to create link (name already exists).\n",
      "Could not add dataset: Unable to create link (name already exists).\n",
      "Could not add dataset: Unable to create link (name already exists).\n",
      "Could not add dataset: Unable to create link (name already exists).\n",
      "Could not add dataset: Unable to create link (name already exists).\n",
      "Could not add dataset: Unable to create link (name already exists).\n",
      "Could not add dataset: Unable to create link (name already exists).\n",
      "Could not add dataset: Unable to create link (name already exists).\n",
      "Could not add dataset: Unable to create link (name already exists).\n",
      "Could not add dataset: Unable to create link (name already exists).\n",
      "Could not add dataset: Unable to create link (name already exists).\n",
      "Could not add dataset: Unable to create link (name already exists).\n",
      "Could not add dataset: Unable to create link (name already exists).\n",
      "Could not add dataset: Unable to create link (name already exists).\n",
      "Could not add dataset: Unable to create link (name already exists).\n",
      "Could not add dataset: Unable to create link (name already exists).\n",
      "Could not add dataset: Unable to create link (name already exists).\n",
      "Could not add dataset: Unable to create link (name already exists).\n",
      "Could not add dataset: Unable to create link (name already exists).\n",
      "Could not add dataset: Unable to create link (name already exists).\n",
      "Could not add dataset: Unable to create link (name already exists).\n",
      "Could not add dataset: Unable to create link (name already exists).\n",
      "Could not add dataset: Unable to create link (name already exists).\n",
      "Could not add dataset: Unable to create link (name already exists).\n"
     ]
    },
    {
     "name": "stderr",
     "output_type": "stream",
     "text": [
      " ██░░░░░░░░░░░░░░░░░░░░░░░░░░░░░░░░░░░░░░░░░░░░░░░░   5% ETA 0:00:03"
     ]
    },
    {
     "name": "stdout",
     "output_type": "stream",
     "text": [
      "Could not add dataset: Unable to create link (name already exists).\n",
      "Could not add dataset: Unable to create link (name already exists).\n",
      "Could not add dataset: Unable to create link (name already exists).\n",
      "Could not add dataset: Unable to create link (name already exists).\n"
     ]
    },
    {
     "name": "stderr",
     "output_type": "stream",
     "text": [
      " ███████████████████░░░░░░░░░░░░░░░░░░░░░░░░░░░░░░░  38% ETA 0:00:00"
     ]
    },
    {
     "name": "stdout",
     "output_type": "stream",
     "text": [
      "Could not add dataset: Unable to create link (name already exists).\n",
      "Could not add dataset: Unable to create link (name already exists).\n",
      "Could not add dataset: Unable to create link (name already exists).\n",
      "Could not add dataset: Unable to create link (name already exists).\n",
      "Could not add dataset: Unable to create link (name already exists).\n",
      "Could not add dataset: Unable to create link (name already exists).\n",
      "Could not add dataset: Unable to create link (name already exists).\n",
      "Could not add dataset: Unable to create link (name already exists).\n",
      "Could not add dataset: Unable to create link (name already exists).\n",
      "Could not add dataset: Unable to create link (name already exists).\n",
      "Could not add dataset: Unable to create link (name already exists).\n",
      "Could not add dataset: Unable to create link (name already exists).\n",
      "Could not add dataset: Unable to create link (name already exists).\n",
      "Could not add dataset: Unable to create link (name already exists).\n",
      "Could not add dataset: Unable to create link (name already exists).\n",
      "Could not add dataset: Unable to create link (name already exists).\n",
      "Could not add dataset: Unable to create link (name already exists).\n",
      "Could not add dataset: Unable to create link (name already exists).\n",
      "Could not add dataset: Unable to create link (name already exists).\n",
      "Could not add dataset: Unable to create link (name already exists).\n",
      "Could not add dataset: Unable to create link (name already exists).\n",
      "Could not add dataset: Unable to create link (name already exists).\n",
      "Could not add dataset: Unable to create link (name already exists).\n",
      "Could not add dataset: Unable to create link (name already exists).\n",
      "Could not add dataset: Unable to create link (name already exists).\n",
      "Could not add dataset: Unable to create link (name already exists).\n",
      "Could not add dataset: Unable to create link (name already exists).\n",
      "Could not add dataset: Unable to create link (name already exists).\n",
      "Could not add dataset: Unable to create link (name already exists).\n"
     ]
    },
    {
     "name": "stderr",
     "output_type": "stream",
     "text": [
      " ██████████████████████████████████████████████████ 100% ETA 0:00:00\n"
     ]
    },
    {
     "name": "stdout",
     "output_type": "stream",
     "text": [
      "Could not add dataset: Unable to create link (name already exists).\n",
      "Could not add dataset: Unable to create link (name already exists).\n",
      "Could not add dataset: Unable to create link (name already exists).\n",
      "Could not add dataset: Unable to create link (name already exists).\n",
      "Could not add dataset: Unable to create link (name already exists).\n",
      "Could not add dataset: Unable to create link (name already exists).\n",
      "Could not add dataset: Unable to create link (name already exists).\n",
      "Could not add dataset: Unable to create link (name already exists).\n",
      "Could not add dataset: Unable to create link (name already exists).\n",
      "Could not add dataset: Unable to create link (name already exists).\n",
      "Could not add dataset: Unable to create link (name already exists).\n",
      "Could not add dataset: Unable to create link (name already exists).\n",
      "Could not add dataset: Unable to create link (name already exists).\n",
      "Could not add dataset: Unable to create link (name already exists).\n",
      "Could not add dataset: Unable to create link (name already exists).\n",
      "Could not add dataset: Unable to create link (name already exists).\n",
      "Could not add dataset: Unable to create link (name already exists).\n",
      "Could not add dataset: Unable to create link (name already exists).\n",
      "Could not add dataset: Unable to create link (name already exists).\n",
      "Could not add dataset: Unable to create link (name already exists).\n",
      "Could not add dataset: Unable to create link (name already exists).\n",
      "Could not add dataset: Unable to create link (name already exists).\n",
      "Could not add dataset: Unable to create link (name already exists).\n",
      "Could not add dataset: Unable to create link (name already exists).\n",
      "Could not add dataset: Unable to create link (name already exists).\n",
      "Could not add dataset: Unable to create link (name already exists).\n",
      "Could not add dataset: Unable to create link (name already exists).\n",
      "Could not add dataset: Unable to create link (name already exists).\n",
      "Could not add dataset: Unable to create link (name already exists).\n",
      "Could not add dataset: Unable to create link (name already exists).\n",
      "Could not add dataset: Unable to create link (name already exists).\n",
      "Could not add dataset: Unable to create link (name already exists).\n",
      "Could not add dataset: Unable to create link (name already exists).\n",
      "Could not add dataset: Unable to create link (name already exists).\n",
      "Could not add dataset: Unable to create link (name already exists).\n",
      "Could not add dataset: Unable to create link (name already exists).\n",
      "Could not add dataset: Unable to create link (name already exists).\n",
      "Could not add dataset: Unable to create link (name already exists).\n",
      "Could not add dataset: Unable to create link (name already exists).\n",
      "Could not add dataset: Unable to create link (name already exists).\n",
      "Could not add dataset: Unable to create link (name already exists).\n",
      "Could not add dataset: Unable to create link (name already exists).\n",
      "Could not add dataset: Unable to create link (name already exists).\n",
      "Could not add dataset: Unable to create link (name already exists).\n",
      "Could not add dataset: Unable to create link (name already exists).\n",
      "Could not add dataset: Unable to create link (name already exists).\n",
      "Could not add dataset: Unable to create link (name already exists).\n",
      "Could not add dataset: Unable to create link (name already exists).\n"
     ]
    },
    {
     "name": "stderr",
     "output_type": "stream",
     "text": [
      " █░░░░░░░░░░░░░░░░░░░░░░░░░░░░░░░░░░░░░░░░░░░░░░░░░   2% ETA 0:00:04"
     ]
    },
    {
     "name": "stdout",
     "output_type": "stream",
     "text": [
      "Could not add dataset: Unable to create link (name already exists).\n",
      "Could not add dataset: Unable to create link (name already exists).\n"
     ]
    },
    {
     "name": "stderr",
     "output_type": "stream",
     "text": [
      " ████████████░░░░░░░░░░░░░░░░░░░░░░░░░░░░░░░░░░░░░░  25% ETA 0:00:01"
     ]
    },
    {
     "name": "stdout",
     "output_type": "stream",
     "text": [
      "Could not add dataset: Unable to create link (name already exists).\n",
      "Could not add dataset: Unable to create link (name already exists).\n",
      "Could not add dataset: Unable to create link (name already exists).\n",
      "Could not add dataset: Unable to create link (name already exists).\n",
      "Could not add dataset: Unable to create link (name already exists).\n",
      "Could not add dataset: Unable to create link (name already exists).\n",
      "Could not add dataset: Unable to create link (name already exists).\n",
      "Could not add dataset: Unable to create link (name already exists).\n",
      "Could not add dataset: Unable to create link (name already exists).\n",
      "Could not add dataset: Unable to create link (name already exists).\n",
      "Could not add dataset: Unable to create link (name already exists).\n",
      "Could not add dataset: Unable to create link (name already exists).\n",
      "Could not add dataset: Unable to create link (name already exists).\n",
      "Could not add dataset: Unable to create link (name already exists).\n",
      "Could not add dataset: Unable to create link (name already exists).\n",
      "Could not add dataset: Unable to create link (name already exists).\n",
      "Could not add dataset: Unable to create link (name already exists).\n",
      "Could not add dataset: Unable to create link (name already exists).\n",
      "Could not add dataset: Unable to create link (name already exists).\n"
     ]
    },
    {
     "name": "stderr",
     "output_type": "stream",
     "text": [
      " ██████████████████████████████████████████████████ 100% ETA 0:00:00\n"
     ]
    },
    {
     "name": "stdout",
     "output_type": "stream",
     "text": [
      "Could not add dataset: Unable to create link (name already exists).\n",
      "Could not add dataset: Unable to create link (name already exists).\n",
      "Could not add dataset: Unable to create link (name already exists).\n",
      "Could not add dataset: Unable to create link (name already exists).\n",
      "Could not add dataset: Unable to create link (name already exists).\n",
      "Could not add dataset: Unable to create link (name already exists).\n",
      "Could not add dataset: Unable to create link (name already exists).\n",
      "Could not add dataset: Unable to create link (name already exists).\n",
      "Could not add dataset: Unable to create link (name already exists).\n",
      "Could not add dataset: Unable to create link (name already exists).\n",
      "Could not add dataset: Unable to create link (name already exists).\n",
      "Could not add dataset: Unable to create link (name already exists).\n",
      "Could not add dataset: Unable to create link (name already exists).\n",
      "Could not add dataset: Unable to create link (name already exists).\n",
      "Could not add dataset: Unable to create link (name already exists).\n",
      "Could not add dataset: Unable to create link (name already exists).\n",
      "Could not add dataset: Unable to create link (name already exists).\n",
      "Could not add dataset: Unable to create link (name already exists).\n",
      "Could not add dataset: Unable to create link (name already exists).\n",
      "Could not add dataset: Unable to create link (name already exists).\n",
      "Could not add dataset: Unable to create link (name already exists).\n",
      "Could not add dataset: Unable to create link (name already exists).\n",
      "Could not add dataset: Unable to create link (name already exists).\n",
      "Could not add dataset: Unable to create link (name already exists).\n",
      "Could not add dataset: Unable to create link (name already exists).\n",
      "Could not add dataset: Unable to create link (name already exists).\n",
      "Could not add dataset: Unable to create link (name already exists).\n",
      "Could not add dataset: Unable to create link (name already exists).\n",
      "Could not add dataset: Unable to create link (name already exists).\n",
      "Could not add dataset: Unable to create link (name already exists).\n",
      "Could not add dataset: Unable to create link (name already exists).\n",
      "Could not add dataset: Unable to create link (name already exists).\n",
      "Could not add dataset: Unable to create link (name already exists).\n",
      "Could not add dataset: Unable to create link (name already exists).\n",
      "Could not add dataset: Unable to create link (name already exists).\n",
      "Could not add dataset: Unable to create link (name already exists).\n",
      "Could not add dataset: Unable to create link (name already exists).\n",
      "Could not add dataset: Unable to create link (name already exists).\n",
      "Could not add dataset: Unable to create link (name already exists).\n",
      "Could not add dataset: Unable to create link (name already exists).\n",
      "Could not add dataset: Unable to create link (name already exists).\n",
      "Could not add dataset: Unable to create link (name already exists).\n",
      "Could not add dataset: Unable to create link (name already exists).\n",
      "Could not add dataset: Unable to create link (name already exists).\n",
      "Could not add dataset: Unable to create link (name already exists).\n",
      "Could not add dataset: Unable to create link (name already exists).\n",
      "Could not add dataset: Unable to create link (name already exists).\n",
      "Could not add dataset: Unable to create link (name already exists).\n",
      "Could not add dataset: Unable to create link (name already exists).\n",
      "Could not add dataset: Unable to create link (name already exists).\n",
      "Could not add dataset: Unable to create link (name already exists).\n",
      "Could not add dataset: Unable to create link (name already exists).\n",
      "Could not add dataset: Unable to create link (name already exists).\n",
      "Could not add dataset: Unable to create link (name already exists).\n",
      "Could not add dataset: Unable to create link (name already exists).\n",
      "Could not add dataset: Unable to create link (name already exists).\n",
      "Could not add dataset: Unable to create link (name already exists).\n",
      "Could not add dataset: Unable to create link (name already exists).\n",
      "Could not add dataset: Unable to create link (name already exists).\n",
      "Could not add dataset: Unable to create link (name already exists).\n"
     ]
    },
    {
     "name": "stderr",
     "output_type": "stream",
     "text": [
      " ██░░░░░░░░░░░░░░░░░░░░░░░░░░░░░░░░░░░░░░░░░░░░░░░░   5% ETA 0:00:02"
     ]
    },
    {
     "name": "stdout",
     "output_type": "stream",
     "text": [
      "Could not add dataset: Unable to create link (name already exists).\n",
      "Could not add dataset: Unable to create link (name already exists).\n",
      "Could not add dataset: Unable to create link (name already exists).\n",
      "Could not add dataset: Unable to create link (name already exists).\n"
     ]
    },
    {
     "name": "stderr",
     "output_type": "stream",
     "text": [
      " ███████████████░░░░░░░░░░░░░░░░░░░░░░░░░░░░░░░░░░░  31% ETA 0:00:01"
     ]
    },
    {
     "name": "stdout",
     "output_type": "stream",
     "text": [
      "Could not add dataset: Unable to create link (name already exists).\n",
      "Could not add dataset: Unable to create link (name already exists).\n",
      "Could not add dataset: Unable to create link (name already exists).\n",
      "Could not add dataset: Unable to create link (name already exists).\n",
      "Could not add dataset: Unable to create link (name already exists).\n",
      "Could not add dataset: Unable to create link (name already exists).\n",
      "Could not add dataset: Unable to create link (name already exists).\n",
      "Could not add dataset: Unable to create link (name already exists).\n",
      "Could not add dataset: Unable to create link (name already exists).\n",
      "Could not add dataset: Unable to create link (name already exists).\n",
      "Could not add dataset: Unable to create link (name already exists).\n",
      "Could not add dataset: Unable to create link (name already exists).\n",
      "Could not add dataset: Unable to create link (name already exists).\n",
      "Could not add dataset: Unable to create link (name already exists).\n",
      "Could not add dataset: Unable to create link (name already exists).\n",
      "Could not add dataset: Unable to create link (name already exists).\n",
      "Could not add dataset: Unable to create link (name already exists).\n",
      "Could not add dataset: Unable to create link (name already exists).\n",
      "Could not add dataset: Unable to create link (name already exists).\n",
      "Could not add dataset: Unable to create link (name already exists).\n",
      "Could not add dataset: Unable to create link (name already exists).\n"
     ]
    },
    {
     "name": "stderr",
     "output_type": "stream",
     "text": [
      " ██████████████████████████████████████████████████ 100% ETA 0:00:00\n",
      " ░░░░░░░░░░░░░░░░░░░░░░░░░░░░░░░░░░░░░░░░░░░░░░░░░░   0% ETA n/a"
     ]
    },
    {
     "name": "stdout",
     "output_type": "stream",
     "text": [
      "Could not add dataset: Unable to create link (name already exists).\n",
      "Could not add dataset: Unable to create link (name already exists).\n",
      "Could not add dataset: Unable to create link (name already exists).\n",
      "Could not add dataset: Unable to create link (name already exists).\n",
      "Could not add dataset: Unable to create link (name already exists).\n",
      "Could not add dataset: Unable to create link (name already exists).\n",
      "Could not add dataset: Unable to create link (name already exists).\n",
      "Could not add dataset: Unable to create link (name already exists).\n",
      "Could not add dataset: Unable to create link (name already exists).\n",
      "Could not add dataset: Unable to create link (name already exists).\n",
      "Could not add dataset: Unable to create link (name already exists).\n",
      "Could not add dataset: Unable to create link (name already exists).\n",
      "Could not add dataset: Unable to create link (name already exists).\n",
      "Could not add dataset: Unable to create link (name already exists).\n",
      "Could not add dataset: Unable to create link (name already exists).\n",
      "Could not add dataset: Unable to create link (name already exists).\n",
      "Could not add dataset: Unable to create link (name already exists).\n",
      "Could not add dataset: Unable to create link (name already exists).\n",
      "Could not add dataset: Unable to create link (name already exists).\n",
      "Could not add dataset: Unable to create link (name already exists).\n",
      "Could not add dataset: Unable to create link (name already exists).\n",
      "Could not add dataset: Unable to create link (name already exists).\n",
      "Could not add dataset: Unable to create link (name already exists).\n",
      "Could not add dataset: Unable to create link (name already exists).\n",
      "Could not add dataset: Unable to create link (name already exists).\n",
      "Could not add dataset: Unable to create link (name already exists).\n",
      "Could not add dataset: Unable to create link (name already exists).\n",
      "Could not add dataset: Unable to create link (name already exists).\n",
      "Could not add dataset: Unable to create link (name already exists).\n",
      "Could not add dataset: Unable to create link (name already exists).\n",
      "Could not add dataset: Unable to create link (name already exists).\n",
      "Could not add dataset: Unable to create link (name already exists).\n",
      "Could not add dataset: Unable to create link (name already exists).\n",
      "Could not add dataset: Unable to create link (name already exists).\n",
      "Could not add dataset: Unable to create link (name already exists).\n",
      "Could not add dataset: Unable to create link (name already exists).\n",
      "Could not add dataset: Unable to create link (name already exists).\n",
      "Could not add dataset: Unable to create link (name already exists).\n",
      "Could not add dataset: Unable to create link (name already exists).\n",
      "Could not add dataset: Unable to create link (name already exists).\n",
      "Could not add dataset: Unable to create link (name already exists).\n",
      "Could not add dataset: Unable to create link (name already exists).\n",
      "Could not add dataset: Unable to create link (name already exists).\n",
      "Could not add dataset: Unable to create link (name already exists).\n",
      "Could not add dataset: Unable to create link (name already exists).\n",
      "Could not add dataset: Unable to create link (name already exists).\n",
      "Could not add dataset: Unable to create link (name already exists).\n",
      "Could not add dataset: Unable to create link (name already exists).\n",
      "Could not add dataset: Unable to create link (name already exists).\n",
      "Could not add dataset: Unable to create link (name already exists).\n",
      "Could not add dataset: Unable to create link (name already exists).\n",
      "Could not add dataset: Unable to create link (name already exists).\n",
      "Could not add dataset: Unable to create link (name already exists).\n",
      "Could not add dataset: Unable to create link (name already exists).\n",
      "Could not add dataset: Unable to create link (name already exists).\n",
      "Could not add dataset: Unable to create link (name already exists).\n"
     ]
    },
    {
     "name": "stderr",
     "output_type": "stream",
     "text": [
      " ██████████████████████████████████████████████████ 100% ETA 0:00:00\n",
      "/home/pyiron_user/pyiron/projects/from_liam/damask_eval.py:37: H5pyDeprecationWarning: The default file mode will change to 'r' (read-only) in h5py 3.0. To suppress this warning, pass the mode you need to h5py.File(), or set the global default h5.get_config().default_file_mode, or set the environment variable H5PY_DEFAULT_READONLY=1. Available modes are: 'r', 'r+', 'w', 'w-'/'x', 'a'. See the docs for details.\n",
      "  hdf = h5py.File(d.fname)\n",
      " █░░░░░░░░░░░░░░░░░░░░░░░░░░░░░░░░░░░░░░░░░░░░░░░░░   2% ETA 0:00:10"
     ]
    },
    {
     "name": "stdout",
     "output_type": "stream",
     "text": [
      "Could not add dataset: Unable to create link (name already exists).\n",
      "Could not add dataset: Unable to create link (name already exists).\n"
     ]
    },
    {
     "name": "stderr",
     "output_type": "stream",
     "text": [
      " ████████████████░░░░░░░░░░░░░░░░░░░░░░░░░░░░░░░░░░  32% ETA 0:00:01"
     ]
    },
    {
     "name": "stdout",
     "output_type": "stream",
     "text": [
      "Could not add dataset: Unable to create link (name already exists).\n",
      "Could not add dataset: Unable to create link (name already exists).\n",
      "Could not add dataset: Unable to create link (name already exists).\n",
      "Could not add dataset: Unable to create link (name already exists).\n",
      "Could not add dataset: Unable to create link (name already exists).\n",
      "Could not add dataset: Unable to create link (name already exists).\n",
      "Could not add dataset: Unable to create link (name already exists).\n",
      "Could not add dataset: Unable to create link (name already exists).\n",
      "Could not add dataset: Unable to create link (name already exists).\n",
      "Could not add dataset: Unable to create link (name already exists).\n",
      "Could not add dataset: Unable to create link (name already exists).\n",
      "Could not add dataset: Unable to create link (name already exists).\n",
      "Could not add dataset: Unable to create link (name already exists).\n",
      "Could not add dataset: Unable to create link (name already exists).\n",
      "Could not add dataset: Unable to create link (name already exists).\n",
      "Could not add dataset: Unable to create link (name already exists).\n",
      "Could not add dataset: Unable to create link (name already exists).\n",
      "Could not add dataset: Unable to create link (name already exists).\n",
      "Could not add dataset: Unable to create link (name already exists).\n",
      "Could not add dataset: Unable to create link (name already exists).\n",
      "Could not add dataset: Unable to create link (name already exists).\n",
      "Could not add dataset: Unable to create link (name already exists).\n",
      "Could not add dataset: Unable to create link (name already exists).\n",
      "Could not add dataset: Unable to create link (name already exists).\n",
      "Could not add dataset: Unable to create link (name already exists).\n"
     ]
    },
    {
     "name": "stderr",
     "output_type": "stream",
     "text": [
      " ██████████████████████████████████████████████████ 100% ETA 0:00:00\n"
     ]
    },
    {
     "name": "stdout",
     "output_type": "stream",
     "text": [
      "Could not add dataset: Unable to create link (name already exists).\n",
      "Could not add dataset: Unable to create link (name already exists).\n",
      "Could not add dataset: Unable to create link (name already exists).\n",
      "Could not add dataset: Unable to create link (name already exists).\n",
      "Could not add dataset: Unable to create link (name already exists).\n",
      "Could not add dataset: Unable to create link (name already exists).\n",
      "Could not add dataset: Unable to create link (name already exists).\n",
      "Could not add dataset: Unable to create link (name already exists).\n",
      "Could not add dataset: Unable to create link (name already exists).\n",
      "Could not add dataset: Unable to create link (name already exists).\n",
      "Could not add dataset: Unable to create link (name already exists).\n",
      "Could not add dataset: Unable to create link (name already exists).\n",
      "Could not add dataset: Unable to create link (name already exists).\n",
      "Could not add dataset: Unable to create link (name already exists).\n",
      "Could not add dataset: Unable to create link (name already exists).\n",
      "Could not add dataset: Unable to create link (name already exists).\n",
      "Could not add dataset: Unable to create link (name already exists).\n",
      "Could not add dataset: Unable to create link (name already exists).\n",
      "Could not add dataset: Unable to create link (name already exists).\n",
      "Could not add dataset: Unable to create link (name already exists).\n",
      "Could not add dataset: Unable to create link (name already exists).\n",
      "Could not add dataset: Unable to create link (name already exists).\n",
      "Could not add dataset: Unable to create link (name already exists).\n",
      "Could not add dataset: Unable to create link (name already exists).\n",
      "Could not add dataset: Unable to create link (name already exists).\n",
      "Could not add dataset: Unable to create link (name already exists).\n",
      "Could not add dataset: Unable to create link (name already exists).\n",
      "Could not add dataset: Unable to create link (name already exists).\n",
      "Could not add dataset: Unable to create link (name already exists).\n",
      "Could not add dataset: Unable to create link (name already exists).\n",
      "Could not add dataset: Unable to create link (name already exists).\n",
      "Could not add dataset: Unable to create link (name already exists).\n",
      "Could not add dataset: Unable to create link (name already exists).\n",
      "Could not add dataset: Unable to create link (name already exists).\n",
      "Could not add dataset: Unable to create link (name already exists).\n",
      "Could not add dataset: Unable to create link (name already exists).\n",
      "Could not add dataset: Unable to create link (name already exists).\n",
      "Could not add dataset: Unable to create link (name already exists).\n",
      "Could not add dataset: Unable to create link (name already exists).\n",
      "Could not add dataset: Unable to create link (name already exists).\n",
      "Could not add dataset: Unable to create link (name already exists).\n",
      "Could not add dataset: Unable to create link (name already exists).\n",
      "Could not add dataset: Unable to create link (name already exists).\n",
      "Could not add dataset: Unable to create link (name already exists).\n",
      "Could not add dataset: Unable to create link (name already exists).\n",
      "Could not add dataset: Unable to create link (name already exists).\n",
      "Could not add dataset: Unable to create link (name already exists).\n",
      "Could not add dataset: Unable to create link (name already exists).\n",
      "Could not add dataset: Unable to create link (name already exists).\n",
      "Could not add dataset: Unable to create link (name already exists).\n",
      "Could not add dataset: Unable to create link (name already exists).\n",
      "Could not add dataset: Unable to create link (name already exists).\n",
      "Could not add dataset: Unable to create link (name already exists).\n",
      "Could not add dataset: Unable to create link (name already exists).\n"
     ]
    },
    {
     "name": "stderr",
     "output_type": "stream",
     "text": [
      " ███░░░░░░░░░░░░░░░░░░░░░░░░░░░░░░░░░░░░░░░░░░░░░░░   6% ETA 0:00:05"
     ]
    },
    {
     "name": "stdout",
     "output_type": "stream",
     "text": [
      "Could not add dataset: Unable to create link (name already exists).\n",
      "Could not add dataset: Unable to create link (name already exists).\n",
      "Could not add dataset: Unable to create link (name already exists).\n",
      "Could not add dataset: Unable to create link (name already exists).\n",
      "Could not add dataset: Unable to create link (name already exists).\n"
     ]
    },
    {
     "name": "stderr",
     "output_type": "stream",
     "text": [
      " ████████████░░░░░░░░░░░░░░░░░░░░░░░░░░░░░░░░░░░░░░  25% ETA 0:00:02"
     ]
    },
    {
     "name": "stdout",
     "output_type": "stream",
     "text": [
      "Could not add dataset: Unable to create link (name already exists).\n",
      "Could not add dataset: Unable to create link (name already exists).\n",
      "Could not add dataset: Unable to create link (name already exists).\n",
      "Could not add dataset: Unable to create link (name already exists).\n",
      "Could not add dataset: Unable to create link (name already exists).\n",
      "Could not add dataset: Unable to create link (name already exists).\n",
      "Could not add dataset: Unable to create link (name already exists).\n",
      "Could not add dataset: Unable to create link (name already exists).\n",
      "Could not add dataset: Unable to create link (name already exists).\n",
      "Could not add dataset: Unable to create link (name already exists).\n",
      "Could not add dataset: Unable to create link (name already exists).\n",
      "Could not add dataset: Unable to create link (name already exists).\n",
      "Could not add dataset: Unable to create link (name already exists).\n",
      "Could not add dataset: Unable to create link (name already exists).\n",
      "Could not add dataset: Unable to create link (name already exists).\n",
      "Could not add dataset: Unable to create link (name already exists).\n"
     ]
    },
    {
     "name": "stderr",
     "output_type": "stream",
     "text": [
      " ██████████████████████░░░░░░░░░░░░░░░░░░░░░░░░░░░░  44% ETA 0:00:01"
     ]
    },
    {
     "name": "stdout",
     "output_type": "stream",
     "text": [
      "Could not add dataset: Unable to create link (name already exists).\n",
      "Could not add dataset: Unable to create link (name already exists).\n",
      "Could not add dataset: Unable to create link (name already exists).\n",
      "Could not add dataset: Unable to create link (name already exists).\n",
      "Could not add dataset: Unable to create link (name already exists).\n",
      "Could not add dataset: Unable to create link (name already exists).\n",
      "Could not add dataset: Unable to create link (name already exists).\n",
      "Could not add dataset: Unable to create link (name already exists).\n",
      "Could not add dataset: Unable to create link (name already exists).\n",
      "Could not add dataset: Unable to create link (name already exists).\n",
      "Could not add dataset: Unable to create link (name already exists).\n",
      "Could not add dataset: Unable to create link (name already exists).\n",
      "Could not add dataset: Unable to create link (name already exists).\n",
      "Could not add dataset: Unable to create link (name already exists).\n",
      "Could not add dataset: Unable to create link (name already exists).\n",
      "Could not add dataset: Unable to create link (name already exists).\n"
     ]
    },
    {
     "name": "stderr",
     "output_type": "stream",
     "text": [
      " ██████████████████████████████████████████████████ 100% ETA 0:00:00\n"
     ]
    },
    {
     "name": "stdout",
     "output_type": "stream",
     "text": [
      "Could not add dataset: Unable to create link (name already exists).\n",
      "Could not add dataset: Unable to create link (name already exists).\n",
      "Could not add dataset: Unable to create link (name already exists).\n",
      "Could not add dataset: Unable to create link (name already exists).\n",
      "Could not add dataset: Unable to create link (name already exists).\n",
      "Could not add dataset: Unable to create link (name already exists).\n",
      "Could not add dataset: Unable to create link (name already exists).\n",
      "Could not add dataset: Unable to create link (name already exists).\n",
      "Could not add dataset: Unable to create link (name already exists).\n",
      "Could not add dataset: Unable to create link (name already exists).\n",
      "Could not add dataset: Unable to create link (name already exists).\n",
      "Could not add dataset: Unable to create link (name already exists).\n",
      "Could not add dataset: Unable to create link (name already exists).\n",
      "Could not add dataset: Unable to create link (name already exists).\n",
      "Could not add dataset: Unable to create link (name already exists).\n",
      "Could not add dataset: Unable to create link (name already exists).\n",
      "Could not add dataset: Unable to create link (name already exists).\n",
      "Could not add dataset: Unable to create link (name already exists).\n",
      "Could not add dataset: Unable to create link (name already exists).\n",
      "Could not add dataset: Unable to create link (name already exists).\n",
      "Could not add dataset: Unable to create link (name already exists).\n",
      "Could not add dataset: Unable to create link (name already exists).\n",
      "Could not add dataset: Unable to create link (name already exists).\n",
      "Could not add dataset: Unable to create link (name already exists).\n",
      "Could not add dataset: Unable to create link (name already exists).\n",
      "Could not add dataset: Unable to create link (name already exists).\n",
      "Could not add dataset: Unable to create link (name already exists).\n",
      "Could not add dataset: Unable to create link (name already exists).\n",
      "Could not add dataset: Unable to create link (name already exists).\n",
      "Could not add dataset: Unable to create link (name already exists).\n",
      "Could not add dataset: Unable to create link (name already exists).\n",
      "Could not add dataset: Unable to create link (name already exists).\n",
      "Could not add dataset: Unable to create link (name already exists).\n",
      "Could not add dataset: Unable to create link (name already exists).\n",
      "Could not add dataset: Unable to create link (name already exists).\n",
      "Could not add dataset: Unable to create link (name already exists).\n",
      "Could not add dataset: Unable to create link (name already exists).\n",
      "Could not add dataset: Unable to create link (name already exists).\n",
      "Could not add dataset: Unable to create link (name already exists).\n",
      "Could not add dataset: Unable to create link (name already exists).\n",
      "Could not add dataset: Unable to create link (name already exists).\n",
      "Could not add dataset: Unable to create link (name already exists).\n",
      "Could not add dataset: Unable to create link (name already exists).\n",
      "Could not add dataset: Unable to create link (name already exists).\n"
     ]
    },
    {
     "name": "stderr",
     "output_type": "stream",
     "text": [
      " ██░░░░░░░░░░░░░░░░░░░░░░░░░░░░░░░░░░░░░░░░░░░░░░░░   5% ETA 0:00:03"
     ]
    },
    {
     "name": "stdout",
     "output_type": "stream",
     "text": [
      "Could not add dataset: Unable to create link (name already exists).\n",
      "Could not add dataset: Unable to create link (name already exists).\n",
      "Could not add dataset: Unable to create link (name already exists).\n",
      "Could not add dataset: Unable to create link (name already exists).\n"
     ]
    },
    {
     "name": "stderr",
     "output_type": "stream",
     "text": [
      " █████████████████████████████░░░░░░░░░░░░░░░░░░░░░  58% ETA 0:00:00"
     ]
    },
    {
     "name": "stdout",
     "output_type": "stream",
     "text": [
      "Could not add dataset: Unable to create link (name already exists).\n",
      "Could not add dataset: Unable to create link (name already exists).\n",
      "Could not add dataset: Unable to create link (name already exists).\n",
      "Could not add dataset: Unable to create link (name already exists).\n",
      "Could not add dataset: Unable to create link (name already exists).\n",
      "Could not add dataset: Unable to create link (name already exists).\n",
      "Could not add dataset: Unable to create link (name already exists).\n",
      "Could not add dataset: Unable to create link (name already exists).\n",
      "Could not add dataset: Unable to create link (name already exists).\n",
      "Could not add dataset: Unable to create link (name already exists).\n",
      "Could not add dataset: Unable to create link (name already exists).\n",
      "Could not add dataset: Unable to create link (name already exists).\n",
      "Could not add dataset: Unable to create link (name already exists).\n",
      "Could not add dataset: Unable to create link (name already exists).\n",
      "Could not add dataset: Unable to create link (name already exists).\n",
      "Could not add dataset: Unable to create link (name already exists).\n",
      "Could not add dataset: Unable to create link (name already exists).\n",
      "Could not add dataset: Unable to create link (name already exists).\n",
      "Could not add dataset: Unable to create link (name already exists).\n",
      "Could not add dataset: Unable to create link (name already exists).\n",
      "Could not add dataset: Unable to create link (name already exists).\n",
      "Could not add dataset: Unable to create link (name already exists).\n",
      "Could not add dataset: Unable to create link (name already exists).\n",
      "Could not add dataset: Unable to create link (name already exists).\n",
      "Could not add dataset: Unable to create link (name already exists).\n",
      "Could not add dataset: Unable to create link (name already exists).\n",
      "Could not add dataset: Unable to create link (name already exists).\n",
      "Could not add dataset: Unable to create link (name already exists).\n",
      "Could not add dataset: Unable to create link (name already exists).\n",
      "Could not add dataset: Unable to create link (name already exists).\n",
      "Could not add dataset: Unable to create link (name already exists).\n",
      "Could not add dataset: Unable to create link (name already exists).\n",
      "Could not add dataset: Unable to create link (name already exists).\n",
      "Could not add dataset: Unable to create link (name already exists).\n",
      "Could not add dataset: Unable to create link (name already exists).\n",
      "Could not add dataset: Unable to create link (name already exists).\n",
      "Could not add dataset: Unable to create link (name already exists).\n",
      "Could not add dataset: Unable to create link (name already exists).\n",
      "Could not add dataset: Unable to create link (name already exists).\n",
      "Could not add dataset: Unable to create link (name already exists).\n",
      "Could not add dataset: Unable to create link (name already exists).\n",
      "Could not add dataset: Unable to create link (name already exists).\n",
      "Could not add dataset: Unable to create link (name already exists).\n",
      "Could not add dataset: Unable to create link (name already exists).\n",
      "Could not add dataset: Unable to create link (name already exists).\n"
     ]
    },
    {
     "name": "stderr",
     "output_type": "stream",
     "text": [
      " ██████████████████████████████████████████████████ 100% ETA 0:00:00\n"
     ]
    },
    {
     "name": "stdout",
     "output_type": "stream",
     "text": [
      "Could not add dataset: Unable to create link (name already exists).\n",
      "Could not add dataset: Unable to create link (name already exists).\n",
      "Could not add dataset: Unable to create link (name already exists).\n",
      "Could not add dataset: Unable to create link (name already exists).\n",
      "Could not add dataset: Unable to create link (name already exists).\n",
      "Could not add dataset: Unable to create link (name already exists).\n",
      "Could not add dataset: Unable to create link (name already exists).\n",
      "Could not add dataset: Unable to create link (name already exists).\n",
      "Could not add dataset: Unable to create link (name already exists).\n",
      "Could not add dataset: Unable to create link (name already exists).\n",
      "Could not add dataset: Unable to create link (name already exists).\n",
      "Could not add dataset: Unable to create link (name already exists).\n",
      "Could not add dataset: Unable to create link (name already exists).\n",
      "Could not add dataset: Unable to create link (name already exists).\n",
      "Could not add dataset: Unable to create link (name already exists).\n",
      "Could not add dataset: Unable to create link (name already exists).\n",
      "Could not add dataset: Unable to create link (name already exists).\n",
      "Could not add dataset: Unable to create link (name already exists).\n",
      "Could not add dataset: Unable to create link (name already exists).\n",
      "Could not add dataset: Unable to create link (name already exists).\n",
      "Could not add dataset: Unable to create link (name already exists).\n",
      "Could not add dataset: Unable to create link (name already exists).\n",
      "Could not add dataset: Unable to create link (name already exists).\n",
      "Could not add dataset: Unable to create link (name already exists).\n",
      "Could not add dataset: Unable to create link (name already exists).\n",
      "Could not add dataset: Unable to create link (name already exists).\n",
      "Could not add dataset: Unable to create link (name already exists).\n",
      "Could not add dataset: Unable to create link (name already exists).\n",
      "Could not add dataset: Unable to create link (name already exists).\n",
      "Could not add dataset: Unable to create link (name already exists).\n",
      "Could not add dataset: Unable to create link (name already exists).\n",
      "Could not add dataset: Unable to create link (name already exists).\n"
     ]
    },
    {
     "name": "stderr",
     "output_type": "stream",
     "text": [
      " █░░░░░░░░░░░░░░░░░░░░░░░░░░░░░░░░░░░░░░░░░░░░░░░░░   2% ETA 0:00:07"
     ]
    },
    {
     "name": "stdout",
     "output_type": "stream",
     "text": [
      "Could not add dataset: Unable to create link (name already exists).\n",
      "Could not add dataset: Unable to create link (name already exists).\n"
     ]
    },
    {
     "name": "stderr",
     "output_type": "stream",
     "text": [
      " █████████████████████████░░░░░░░░░░░░░░░░░░░░░░░░░  51% ETA 0:00:00"
     ]
    },
    {
     "name": "stdout",
     "output_type": "stream",
     "text": [
      "Could not add dataset: Unable to create link (name already exists).\n",
      "Could not add dataset: Unable to create link (name already exists).\n",
      "Could not add dataset: Unable to create link (name already exists).\n",
      "Could not add dataset: Unable to create link (name already exists).\n",
      "Could not add dataset: Unable to create link (name already exists).\n",
      "Could not add dataset: Unable to create link (name already exists).\n",
      "Could not add dataset: Unable to create link (name already exists).\n",
      "Could not add dataset: Unable to create link (name already exists).\n",
      "Could not add dataset: Unable to create link (name already exists).\n",
      "Could not add dataset: Unable to create link (name already exists).\n",
      "Could not add dataset: Unable to create link (name already exists).\n",
      "Could not add dataset: Unable to create link (name already exists).\n",
      "Could not add dataset: Unable to create link (name already exists).\n",
      "Could not add dataset: Unable to create link (name already exists).\n",
      "Could not add dataset: Unable to create link (name already exists).\n",
      "Could not add dataset: Unable to create link (name already exists).\n",
      "Could not add dataset: Unable to create link (name already exists).\n",
      "Could not add dataset: Unable to create link (name already exists).\n",
      "Could not add dataset: Unable to create link (name already exists).\n",
      "Could not add dataset: Unable to create link (name already exists).\n",
      "Could not add dataset: Unable to create link (name already exists).\n",
      "Could not add dataset: Unable to create link (name already exists).\n",
      "Could not add dataset: Unable to create link (name already exists).\n",
      "Could not add dataset: Unable to create link (name already exists).\n",
      "Could not add dataset: Unable to create link (name already exists).\n",
      "Could not add dataset: Unable to create link (name already exists).\n",
      "Could not add dataset: Unable to create link (name already exists).\n",
      "Could not add dataset: Unable to create link (name already exists).\n",
      "Could not add dataset: Unable to create link (name already exists).\n",
      "Could not add dataset: Unable to create link (name already exists).\n",
      "Could not add dataset: Unable to create link (name already exists).\n",
      "Could not add dataset: Unable to create link (name already exists).\n",
      "Could not add dataset: Unable to create link (name already exists).\n",
      "Could not add dataset: Unable to create link (name already exists).\n",
      "Could not add dataset: Unable to create link (name already exists).\n",
      "Could not add dataset: Unable to create link (name already exists).\n",
      "Could not add dataset: Unable to create link (name already exists).\n",
      "Could not add dataset: Unable to create link (name already exists).\n",
      "Could not add dataset: Unable to create link (name already exists).\n",
      "Could not add dataset: Unable to create link (name already exists).\n"
     ]
    },
    {
     "name": "stderr",
     "output_type": "stream",
     "text": [
      " ██████████████████████████████████████████████████ 100% ETA 0:00:00\n"
     ]
    },
    {
     "name": "stdout",
     "output_type": "stream",
     "text": [
      "Could not add dataset: Unable to create link (name already exists).\n",
      "Could not add dataset: Unable to create link (name already exists).\n",
      "Could not add dataset: Unable to create link (name already exists).\n",
      "Could not add dataset: Unable to create link (name already exists).\n",
      "Could not add dataset: Unable to create link (name already exists).\n",
      "Could not add dataset: Unable to create link (name already exists).\n",
      "Could not add dataset: Unable to create link (name already exists).\n",
      "Could not add dataset: Unable to create link (name already exists).\n",
      "Could not add dataset: Unable to create link (name already exists).\n",
      "Could not add dataset: Unable to create link (name already exists).\n",
      "Could not add dataset: Unable to create link (name already exists).\n",
      "Could not add dataset: Unable to create link (name already exists).\n",
      "Could not add dataset: Unable to create link (name already exists).\n",
      "Could not add dataset: Unable to create link (name already exists).\n",
      "Could not add dataset: Unable to create link (name already exists).\n",
      "Could not add dataset: Unable to create link (name already exists).\n",
      "Could not add dataset: Unable to create link (name already exists).\n",
      "Could not add dataset: Unable to create link (name already exists).\n",
      "Could not add dataset: Unable to create link (name already exists).\n",
      "Could not add dataset: Unable to create link (name already exists).\n",
      "Could not add dataset: Unable to create link (name already exists).\n",
      "Could not add dataset: Unable to create link (name already exists).\n",
      "Could not add dataset: Unable to create link (name already exists).\n",
      "Could not add dataset: Unable to create link (name already exists).\n",
      "Could not add dataset: Unable to create link (name already exists).\n",
      "Could not add dataset: Unable to create link (name already exists).\n",
      "Could not add dataset: Unable to create link (name already exists).\n",
      "Could not add dataset: Unable to create link (name already exists).\n",
      "Could not add dataset: Unable to create link (name already exists).\n",
      "Could not add dataset: Unable to create link (name already exists).\n",
      "Could not add dataset: Unable to create link (name already exists).\n",
      "Could not add dataset: Unable to create link (name already exists).\n",
      "Could not add dataset: Unable to create link (name already exists).\n",
      "Could not add dataset: Unable to create link (name already exists).\n",
      "Could not add dataset: Unable to create link (name already exists).\n",
      "Could not add dataset: Unable to create link (name already exists).\n",
      "Could not add dataset: Unable to create link (name already exists).\n",
      "Could not add dataset: Unable to create link (name already exists).\n",
      "Could not add dataset: Unable to create link (name already exists).\n"
     ]
    },
    {
     "name": "stderr",
     "output_type": "stream",
     "text": [
      " ██░░░░░░░░░░░░░░░░░░░░░░░░░░░░░░░░░░░░░░░░░░░░░░░░   5% ETA 0:00:03"
     ]
    },
    {
     "name": "stdout",
     "output_type": "stream",
     "text": [
      "Could not add dataset: Unable to create link (name already exists).\n",
      "Could not add dataset: Unable to create link (name already exists).\n",
      "Could not add dataset: Unable to create link (name already exists).\n",
      "Could not add dataset: Unable to create link (name already exists).\n"
     ]
    },
    {
     "name": "stderr",
     "output_type": "stream",
     "text": [
      " █████████████████████████░░░░░░░░░░░░░░░░░░░░░░░░░  51% ETA 0:00:00"
     ]
    },
    {
     "name": "stdout",
     "output_type": "stream",
     "text": [
      "Could not add dataset: Unable to create link (name already exists).\n",
      "Could not add dataset: Unable to create link (name already exists).\n",
      "Could not add dataset: Unable to create link (name already exists).\n",
      "Could not add dataset: Unable to create link (name already exists).\n",
      "Could not add dataset: Unable to create link (name already exists).\n",
      "Could not add dataset: Unable to create link (name already exists).\n",
      "Could not add dataset: Unable to create link (name already exists).\n",
      "Could not add dataset: Unable to create link (name already exists).\n",
      "Could not add dataset: Unable to create link (name already exists).\n",
      "Could not add dataset: Unable to create link (name already exists).\n",
      "Could not add dataset: Unable to create link (name already exists).\n",
      "Could not add dataset: Unable to create link (name already exists).\n",
      "Could not add dataset: Unable to create link (name already exists).\n",
      "Could not add dataset: Unable to create link (name already exists).\n",
      "Could not add dataset: Unable to create link (name already exists).\n",
      "Could not add dataset: Unable to create link (name already exists).\n",
      "Could not add dataset: Unable to create link (name already exists).\n",
      "Could not add dataset: Unable to create link (name already exists).\n",
      "Could not add dataset: Unable to create link (name already exists).\n",
      "Could not add dataset: Unable to create link (name already exists).\n",
      "Could not add dataset: Unable to create link (name already exists).\n",
      "Could not add dataset: Unable to create link (name already exists).\n",
      "Could not add dataset: Unable to create link (name already exists).\n",
      "Could not add dataset: Unable to create link (name already exists).\n",
      "Could not add dataset: Unable to create link (name already exists).\n",
      "Could not add dataset: Unable to create link (name already exists).\n",
      "Could not add dataset: Unable to create link (name already exists).\n",
      "Could not add dataset: Unable to create link (name already exists).\n",
      "Could not add dataset: Unable to create link (name already exists).\n",
      "Could not add dataset: Unable to create link (name already exists).\n",
      "Could not add dataset: Unable to create link (name already exists).\n",
      "Could not add dataset: Unable to create link (name already exists).\n",
      "Could not add dataset: Unable to create link (name already exists).\n",
      "Could not add dataset: Unable to create link (name already exists).\n",
      "Could not add dataset: Unable to create link (name already exists).\n",
      "Could not add dataset: Unable to create link (name already exists).\n",
      "Could not add dataset: Unable to create link (name already exists).\n"
     ]
    },
    {
     "name": "stderr",
     "output_type": "stream",
     "text": [
      " ██████████████████████████████████████████████████ 100% ETA 0:00:00\n"
     ]
    },
    {
     "name": "stdout",
     "output_type": "stream",
     "text": [
      "Could not add dataset: Unable to create link (name already exists).\n",
      "Could not add dataset: Unable to create link (name already exists).\n",
      "Could not add dataset: Unable to create link (name already exists).\n",
      "Could not add dataset: Unable to create link (name already exists).\n",
      "Could not add dataset: Unable to create link (name already exists).\n",
      "Could not add dataset: Unable to create link (name already exists).\n",
      "Could not add dataset: Unable to create link (name already exists).\n",
      "Could not add dataset: Unable to create link (name already exists).\n",
      "Could not add dataset: Unable to create link (name already exists).\n",
      "Could not add dataset: Unable to create link (name already exists).\n",
      "Could not add dataset: Unable to create link (name already exists).\n",
      "Could not add dataset: Unable to create link (name already exists).\n",
      "Could not add dataset: Unable to create link (name already exists).\n",
      "Could not add dataset: Unable to create link (name already exists).\n",
      "Could not add dataset: Unable to create link (name already exists).\n",
      "Could not add dataset: Unable to create link (name already exists).\n",
      "Could not add dataset: Unable to create link (name already exists).\n",
      "Could not add dataset: Unable to create link (name already exists).\n",
      "Could not add dataset: Unable to create link (name already exists).\n",
      "Could not add dataset: Unable to create link (name already exists).\n",
      "Could not add dataset: Unable to create link (name already exists).\n",
      "Could not add dataset: Unable to create link (name already exists).\n",
      "Could not add dataset: Unable to create link (name already exists).\n",
      "Could not add dataset: Unable to create link (name already exists).\n",
      "Could not add dataset: Unable to create link (name already exists).\n",
      "Could not add dataset: Unable to create link (name already exists).\n",
      "Could not add dataset: Unable to create link (name already exists).\n",
      "Could not add dataset: Unable to create link (name already exists).\n",
      "Could not add dataset: Unable to create link (name already exists).\n",
      "Could not add dataset: Unable to create link (name already exists).\n",
      "Could not add dataset: Unable to create link (name already exists).\n",
      "Could not add dataset: Unable to create link (name already exists).\n",
      "Could not add dataset: Unable to create link (name already exists).\n",
      "Could not add dataset: Unable to create link (name already exists).\n",
      "Could not add dataset: Unable to create link (name already exists).\n",
      "Could not add dataset: Unable to create link (name already exists).\n",
      "Could not add dataset: Unable to create link (name already exists).\n",
      "Could not add dataset: Unable to create link (name already exists).\n",
      "Could not add dataset: Unable to create link (name already exists).\n",
      "Could not add dataset: Unable to create link (name already exists).\n"
     ]
    },
    {
     "name": "stderr",
     "output_type": "stream",
     "text": [
      " █░░░░░░░░░░░░░░░░░░░░░░░░░░░░░░░░░░░░░░░░░░░░░░░░░   2% ETA 0:00:02"
     ]
    },
    {
     "name": "stdout",
     "output_type": "stream",
     "text": [
      "Could not add dataset: Unable to create link (name already exists).\n",
      "Could not add dataset: Unable to create link (name already exists).\n",
      "Could not add dataset: Unable to create link (name already exists).\n"
     ]
    },
    {
     "name": "stderr",
     "output_type": "stream",
     "text": [
      " ████████████░░░░░░░░░░░░░░░░░░░░░░░░░░░░░░░░░░░░░░  25% ETA 0:00:01"
     ]
    },
    {
     "name": "stdout",
     "output_type": "stream",
     "text": [
      "Could not add dataset: Unable to create link (name already exists).\n",
      "Could not add dataset: Unable to create link (name already exists).\n",
      "Could not add dataset: Unable to create link (name already exists).\n",
      "Could not add dataset: Unable to create link (name already exists).\n",
      "Could not add dataset: Unable to create link (name already exists).\n",
      "Could not add dataset: Unable to create link (name already exists).\n",
      "Could not add dataset: Unable to create link (name already exists).\n",
      "Could not add dataset: Unable to create link (name already exists).\n",
      "Could not add dataset: Unable to create link (name already exists).\n",
      "Could not add dataset: Unable to create link (name already exists).\n",
      "Could not add dataset: Unable to create link (name already exists).\n",
      "Could not add dataset: Unable to create link (name already exists).\n",
      "Could not add dataset: Unable to create link (name already exists).\n",
      "Could not add dataset: Unable to create link (name already exists).\n",
      "Could not add dataset: Unable to create link (name already exists).\n",
      "Could not add dataset: Unable to create link (name already exists).\n",
      "Could not add dataset: Unable to create link (name already exists).\n",
      "Could not add dataset: Unable to create link (name already exists).\n",
      "Could not add dataset: Unable to create link (name already exists).\n"
     ]
    },
    {
     "name": "stderr",
     "output_type": "stream",
     "text": [
      " ██████████████████████████████████████████████████ 100% ETA 0:00:00\n",
      " ░░░░░░░░░░░░░░░░░░░░░░░░░░░░░░░░░░░░░░░░░░░░░░░░░░   0% ETA n/a"
     ]
    },
    {
     "name": "stdout",
     "output_type": "stream",
     "text": [
      "Could not add dataset: Unable to create link (name already exists).\n",
      "Could not add dataset: Unable to create link (name already exists).\n",
      "Could not add dataset: Unable to create link (name already exists).\n",
      "Could not add dataset: Unable to create link (name already exists).\n",
      "Could not add dataset: Unable to create link (name already exists).\n",
      "Could not add dataset: Unable to create link (name already exists).\n",
      "Could not add dataset: Unable to create link (name already exists).\n",
      "Could not add dataset: Unable to create link (name already exists).\n",
      "Could not add dataset: Unable to create link (name already exists).\n",
      "Could not add dataset: Unable to create link (name already exists).\n",
      "Could not add dataset: Unable to create link (name already exists).\n",
      "Could not add dataset: Unable to create link (name already exists).\n",
      "Could not add dataset: Unable to create link (name already exists).\n",
      "Could not add dataset: Unable to create link (name already exists).\n",
      "Could not add dataset: Unable to create link (name already exists).\n",
      "Could not add dataset: Unable to create link (name already exists).\n",
      "Could not add dataset: Unable to create link (name already exists).\n",
      "Could not add dataset: Unable to create link (name already exists).\n",
      "Could not add dataset: Unable to create link (name already exists).\n",
      "Could not add dataset: Unable to create link (name already exists).\n",
      "Could not add dataset: Unable to create link (name already exists).\n",
      "Could not add dataset: Unable to create link (name already exists).\n",
      "Could not add dataset: Unable to create link (name already exists).\n",
      "Could not add dataset: Unable to create link (name already exists).\n",
      "Could not add dataset: Unable to create link (name already exists).\n",
      "Could not add dataset: Unable to create link (name already exists).\n",
      "Could not add dataset: Unable to create link (name already exists).\n",
      "Could not add dataset: Unable to create link (name already exists).\n",
      "Could not add dataset: Unable to create link (name already exists).\n",
      "Could not add dataset: Unable to create link (name already exists).\n",
      "Could not add dataset: Unable to create link (name already exists).\n",
      "Could not add dataset: Unable to create link (name already exists).\n",
      "Could not add dataset: Unable to create link (name already exists).\n",
      "Could not add dataset: Unable to create link (name already exists).\n",
      "Could not add dataset: Unable to create link (name already exists).\n",
      "Could not add dataset: Unable to create link (name already exists).\n",
      "Could not add dataset: Unable to create link (name already exists).\n",
      "Could not add dataset: Unable to create link (name already exists).\n",
      "Could not add dataset: Unable to create link (name already exists).\n",
      "Could not add dataset: Unable to create link (name already exists).\n",
      "Could not add dataset: Unable to create link (name already exists).\n",
      "Could not add dataset: Unable to create link (name already exists).\n",
      "Could not add dataset: Unable to create link (name already exists).\n",
      "Could not add dataset: Unable to create link (name already exists).\n",
      "Could not add dataset: Unable to create link (name already exists).\n",
      "Could not add dataset: Unable to create link (name already exists).\n",
      "Could not add dataset: Unable to create link (name already exists).\n",
      "Could not add dataset: Unable to create link (name already exists).\n",
      "Could not add dataset: Unable to create link (name already exists).\n",
      "Could not add dataset: Unable to create link (name already exists).\n",
      "Could not add dataset: Unable to create link (name already exists).\n",
      "Could not add dataset: Unable to create link (name already exists).\n",
      "Could not add dataset: Unable to create link (name already exists).\n",
      "Could not add dataset: Unable to create link (name already exists).\n",
      "Could not add dataset: Unable to create link (name already exists).\n",
      "Could not add dataset: Unable to create link (name already exists).\n",
      "Could not add dataset: Unable to create link (name already exists).\n",
      "Could not add dataset: Unable to create link (name already exists).\n",
      "Could not add dataset: Unable to create link (name already exists).\n"
     ]
    },
    {
     "name": "stderr",
     "output_type": "stream",
     "text": [
      " ██████████████████████████████████████████████████ 100% ETA 0:00:00\n",
      " ░░░░░░░░░░░░░░░░░░░░░░░░░░░░░░░░░░░░░░░░░░░░░░░░░░   0% ETA n/a"
     ]
    },
    {
     "name": "stdout",
     "output_type": "stream",
     "text": [
      "Could not add dataset: Unable to create link (name already exists).\n"
     ]
    },
    {
     "name": "stderr",
     "output_type": "stream",
     "text": [
      "\r",
      " █░░░░░░░░░░░░░░░░░░░░░░░░░░░░░░░░░░░░░░░░░░░░░░░░░   2% ETA 0:00:16"
     ]
    },
    {
     "name": "stdout",
     "output_type": "stream",
     "text": [
      "Could not add dataset: Unable to create link (name already exists).\n",
      "Could not add dataset: Unable to create link (name already exists).\n"
     ]
    },
    {
     "name": "stderr",
     "output_type": "stream",
     "text": [
      " ██████████████████████████████████████████████████ 100% ETA 0:00:00\n"
     ]
    },
    {
     "name": "stdout",
     "output_type": "stream",
     "text": [
      "Could not add dataset: Unable to create link (name already exists).\n",
      "Could not add dataset: Unable to create link (name already exists).\n",
      "Could not add dataset: Unable to create link (name already exists).\n",
      "Could not add dataset: Unable to create link (name already exists).\n",
      "Could not add dataset: Unable to create link (name already exists).\n",
      "Could not add dataset: Unable to create link (name already exists).\n",
      "Could not add dataset: Unable to create link (name already exists).\n",
      "Could not add dataset: Unable to create link (name already exists).\n",
      "Could not add dataset: Unable to create link (name already exists).\n",
      "Could not add dataset: Unable to create link (name already exists).\n",
      "Could not add dataset: Unable to create link (name already exists).\n",
      "Could not add dataset: Unable to create link (name already exists).\n",
      "Could not add dataset: Unable to create link (name already exists).\n",
      "Could not add dataset: Unable to create link (name already exists).\n",
      "Could not add dataset: Unable to create link (name already exists).\n",
      "Could not add dataset: Unable to create link (name already exists).\n",
      "Could not add dataset: Unable to create link (name already exists).\n",
      "Could not add dataset: Unable to create link (name already exists).\n",
      "Could not add dataset: Unable to create link (name already exists).\n",
      "Could not add dataset: Unable to create link (name already exists).\n",
      "Could not add dataset: Unable to create link (name already exists).\n",
      "Could not add dataset: Unable to create link (name already exists).\n",
      "Could not add dataset: Unable to create link (name already exists).\n",
      "Could not add dataset: Unable to create link (name already exists).\n",
      "Could not add dataset: Unable to create link (name already exists).\n",
      "Could not add dataset: Unable to create link (name already exists).\n",
      "Could not add dataset: Unable to create link (name already exists).\n",
      "Could not add dataset: Unable to create link (name already exists).\n",
      "Could not add dataset: Unable to create link (name already exists).\n",
      "Could not add dataset: Unable to create link (name already exists).\n",
      "Could not add dataset: Unable to create link (name already exists).\n",
      "Could not add dataset: Unable to create link (name already exists).\n",
      "Could not add dataset: Unable to create link (name already exists).\n",
      "Could not add dataset: Unable to create link (name already exists).\n",
      "Could not add dataset: Unable to create link (name already exists).\n",
      "Could not add dataset: Unable to create link (name already exists).\n",
      "Could not add dataset: Unable to create link (name already exists).\n",
      "Could not add dataset: Unable to create link (name already exists).\n",
      "Could not add dataset: Unable to create link (name already exists).\n",
      "Could not add dataset: Unable to create link (name already exists).\n",
      "Could not add dataset: Unable to create link (name already exists).\n",
      "Could not add dataset: Unable to create link (name already exists).\n",
      "Could not add dataset: Unable to create link (name already exists).\n",
      "Could not add dataset: Unable to create link (name already exists).\n",
      "Could not add dataset: Unable to create link (name already exists).\n",
      "Could not add dataset: Unable to create link (name already exists).\n",
      "Could not add dataset: Unable to create link (name already exists).\n",
      "Could not add dataset: Unable to create link (name already exists).\n",
      "Could not add dataset: Unable to create link (name already exists).\n",
      "Could not add dataset: Unable to create link (name already exists).\n",
      "Could not add dataset: Unable to create link (name already exists).\n",
      "Could not add dataset: Unable to create link (name already exists).\n",
      "Could not add dataset: Unable to create link (name already exists).\n",
      "Could not add dataset: Unable to create link (name already exists).\n",
      "Could not add dataset: Unable to create link (name already exists).\n",
      "Could not add dataset: Unable to create link (name already exists).\n",
      "Could not add dataset: Unable to create link (name already exists).\n",
      "Could not add dataset: Unable to create link (name already exists).\n",
      "Could not add dataset: Unable to create link (name already exists).\n",
      "Could not add dataset: Unable to create link (name already exists).\n",
      "Could not add dataset: Unable to create link (name already exists).\n",
      "Could not add dataset: Unable to create link (name already exists).\n",
      "Could not add dataset: Unable to create link (name already exists).\n",
      "Could not add dataset: Unable to create link (name already exists).\n",
      "Could not add dataset: Unable to create link (name already exists).\n",
      "Could not add dataset: Unable to create link (name already exists).\n",
      "Could not add dataset: Unable to create link (name already exists).\n",
      "Could not add dataset: Unable to create link (name already exists).\n",
      "Could not add dataset: Unable to create link (name already exists).\n",
      "Could not add dataset: Unable to create link (name already exists).\n",
      "Could not add dataset: Unable to create link (name already exists).\n",
      "Could not add dataset: Unable to create link (name already exists).\n",
      "Could not add dataset: Unable to create link (name already exists).\n",
      "Could not add dataset: Unable to create link (name already exists).\n",
      "Could not add dataset: Unable to create link (name already exists).\n",
      "Could not add dataset: Unable to create link (name already exists).\n",
      "Could not add dataset: Unable to create link (name already exists).\n",
      "Could not add dataset: Unable to create link (name already exists).\n"
     ]
    },
    {
     "name": "stderr",
     "output_type": "stream",
     "text": [
      " ██░░░░░░░░░░░░░░░░░░░░░░░░░░░░░░░░░░░░░░░░░░░░░░░░   5% ETA 0:00:04"
     ]
    },
    {
     "name": "stdout",
     "output_type": "stream",
     "text": [
      "Could not add dataset: Unable to create link (name already exists).\n",
      "Could not add dataset: Unable to create link (name already exists).\n",
      "Could not add dataset: Unable to create link (name already exists).\n",
      "Could not add dataset: Unable to create link (name already exists).\n"
     ]
    },
    {
     "name": "stderr",
     "output_type": "stream",
     "text": [
      " ████████░░░░░░░░░░░░░░░░░░░░░░░░░░░░░░░░░░░░░░░░░░  16% ETA 0:00:03"
     ]
    },
    {
     "name": "stdout",
     "output_type": "stream",
     "text": [
      "Could not add dataset: Unable to create link (name already exists).\n",
      "Could not add dataset: Unable to create link (name already exists).\n",
      "Could not add dataset: Unable to create link (name already exists).\n",
      "Could not add dataset: Unable to create link (name already exists).\n",
      "Could not add dataset: Unable to create link (name already exists).\n",
      "Could not add dataset: Unable to create link (name already exists).\n",
      "Could not add dataset: Unable to create link (name already exists).\n",
      "Could not add dataset: Unable to create link (name already exists).\n",
      "Could not add dataset: Unable to create link (name already exists).\n",
      "Could not add dataset: Unable to create link (name already exists).\n",
      "Could not add dataset: Unable to create link (name already exists)."
     ]
    },
    {
     "name": "stderr",
     "output_type": "stream",
     "text": [
      " █████████████████████░░░░░░░░░░░░░░░░░░░░░░░░░░░░░  43% ETA 0:00:01"
     ]
    },
    {
     "name": "stdout",
     "output_type": "stream",
     "text": [
      "\n",
      "Could not add dataset: Unable to create link (name already exists).\n",
      "Could not add dataset: Unable to create link (name already exists).\n",
      "Could not add dataset: Unable to create link (name already exists).\n",
      "Could not add dataset: Unable to create link (name already exists).\n",
      "Could not add dataset: Unable to create link (name already exists).\n",
      "Could not add dataset: Unable to create link (name already exists).\n",
      "Could not add dataset: Unable to create link (name already exists).\n",
      "Could not add dataset: Unable to create link (name already exists).\n",
      "Could not add dataset: Unable to create link (name already exists).\n",
      "Could not add dataset: Unable to create link (name already exists).\n",
      "Could not add dataset: Unable to create link (name already exists).\n",
      "Could not add dataset: Unable to create link (name already exists).\n",
      "Could not add dataset: Unable to create link (name already exists).\n",
      "Could not add dataset: Unable to create link (name already exists).\n",
      "Could not add dataset: Unable to create link (name already exists).\n",
      "Could not add dataset: Unable to create link (name already exists).\n",
      "Could not add dataset: Unable to create link (name already exists).\n",
      "Could not add dataset: Unable to create link (name already exists).\n",
      "Could not add dataset: Unable to create link (name already exists).\n",
      "Could not add dataset: Unable to create link (name already exists).\n"
     ]
    },
    {
     "name": "stderr",
     "output_type": "stream",
     "text": [
      " ██████████████████████████████████████████████████ 100% ETA 0:00:00\n"
     ]
    },
    {
     "name": "stdout",
     "output_type": "stream",
     "text": [
      "Could not add dataset: Unable to create link (name already exists).\n",
      "Could not add dataset: Unable to create link (name already exists).\n",
      "Could not add dataset: Unable to create link (name already exists).\n",
      "Could not add dataset: Unable to create link (name already exists).\n",
      "Could not add dataset: Unable to create link (name already exists).\n",
      "Could not add dataset: Unable to create link (name already exists).\n",
      "Could not add dataset: Unable to create link (name already exists).\n",
      "Could not add dataset: Unable to create link (name already exists).\n",
      "Could not add dataset: Unable to create link (name already exists).\n",
      "Could not add dataset: Unable to create link (name already exists).\n",
      "Could not add dataset: Unable to create link (name already exists).\n",
      "Could not add dataset: Unable to create link (name already exists).\n",
      "Could not add dataset: Unable to create link (name already exists).\n",
      "Could not add dataset: Unable to create link (name already exists).\n",
      "Could not add dataset: Unable to create link (name already exists).\n",
      "Could not add dataset: Unable to create link (name already exists).\n",
      "Could not add dataset: Unable to create link (name already exists).\n",
      "Could not add dataset: Unable to create link (name already exists).\n",
      "Could not add dataset: Unable to create link (name already exists).\n",
      "Could not add dataset: Unable to create link (name already exists).\n",
      "Could not add dataset: Unable to create link (name already exists).\n",
      "Could not add dataset: Unable to create link (name already exists).\n",
      "Could not add dataset: Unable to create link (name already exists).\n",
      "Could not add dataset: Unable to create link (name already exists).\n",
      "Could not add dataset: Unable to create link (name already exists).\n",
      "Could not add dataset: Unable to create link (name already exists).\n",
      "Could not add dataset: Unable to create link (name already exists).\n",
      "Could not add dataset: Unable to create link (name already exists).\n",
      "Could not add dataset: Unable to create link (name already exists).\n",
      "Could not add dataset: Unable to create link (name already exists).\n",
      "Could not add dataset: Unable to create link (name already exists).\n",
      "Could not add dataset: Unable to create link (name already exists).\n",
      "Could not add dataset: Unable to create link (name already exists).\n",
      "Could not add dataset: Unable to create link (name already exists).\n",
      "Could not add dataset: Unable to create link (name already exists).\n",
      "Could not add dataset: Unable to create link (name already exists).\n",
      "Could not add dataset: Unable to create link (name already exists).\n",
      "Could not add dataset: Unable to create link (name already exists).\n",
      "Could not add dataset: Unable to create link (name already exists).\n",
      "Could not add dataset: Unable to create link (name already exists).\n",
      "Could not add dataset: Unable to create link (name already exists).\n",
      "Could not add dataset: Unable to create link (name already exists).\n",
      "Could not add dataset: Unable to create link (name already exists).\n",
      "Could not add dataset: Unable to create link (name already exists).\n",
      "Could not add dataset: Unable to create link (name already exists).\n",
      "Could not add dataset: Unable to create link (name already exists).\n"
     ]
    },
    {
     "name": "stderr",
     "output_type": "stream",
     "text": [
      " █░░░░░░░░░░░░░░░░░░░░░░░░░░░░░░░░░░░░░░░░░░░░░░░░░   2% ETA 0:00:03"
     ]
    },
    {
     "name": "stdout",
     "output_type": "stream",
     "text": [
      "Could not add dataset: Unable to create link (name already exists).\n",
      "Could not add dataset: Unable to create link (name already exists).\n"
     ]
    },
    {
     "name": "stderr",
     "output_type": "stream",
     "text": [
      "\r",
      " ██░░░░░░░░░░░░░░░░░░░░░░░░░░░░░░░░░░░░░░░░░░░░░░░░   5% ETA 0:00:08"
     ]
    },
    {
     "name": "stdout",
     "output_type": "stream",
     "text": [
      "Could not add dataset: Unable to create link (name already exists).\n",
      "Could not add dataset: Unable to create link (name already exists).\n"
     ]
    },
    {
     "name": "stderr",
     "output_type": "stream",
     "text": [
      " ██████████████████████████████████████████████████ 100% ETA 0:00:00\n"
     ]
    },
    {
     "name": "stdout",
     "output_type": "stream",
     "text": [
      "Could not add dataset: Unable to create link (name already exists).\n",
      "Could not add dataset: Unable to create link (name already exists).\n",
      "Could not add dataset: Unable to create link (name already exists).\n",
      "Could not add dataset: Unable to create link (name already exists).\n",
      "Could not add dataset: Unable to create link (name already exists).\n",
      "Could not add dataset: Unable to create link (name already exists).\n",
      "Could not add dataset: Unable to create link (name already exists).\n",
      "Could not add dataset: Unable to create link (name already exists).\n",
      "Could not add dataset: Unable to create link (name already exists).\n",
      "Could not add dataset: Unable to create link (name already exists).\n",
      "Could not add dataset: Unable to create link (name already exists).\n",
      "Could not add dataset: Unable to create link (name already exists).\n",
      "Could not add dataset: Unable to create link (name already exists).\n",
      "Could not add dataset: Unable to create link (name already exists).\n",
      "Could not add dataset: Unable to create link (name already exists).\n",
      "Could not add dataset: Unable to create link (name already exists).\n",
      "Could not add dataset: Unable to create link (name already exists).\n",
      "Could not add dataset: Unable to create link (name already exists).\n",
      "Could not add dataset: Unable to create link (name already exists).\n",
      "Could not add dataset: Unable to create link (name already exists).\n",
      "Could not add dataset: Unable to create link (name already exists).\n",
      "Could not add dataset: Unable to create link (name already exists).\n",
      "Could not add dataset: Unable to create link (name already exists).\n",
      "Could not add dataset: Unable to create link (name already exists).\n",
      "Could not add dataset: Unable to create link (name already exists).\n",
      "Could not add dataset: Unable to create link (name already exists).\n",
      "Could not add dataset: Unable to create link (name already exists).\n",
      "Could not add dataset: Unable to create link (name already exists).\n",
      "Could not add dataset: Unable to create link (name already exists).\n",
      "Could not add dataset: Unable to create link (name already exists).\n",
      "Could not add dataset: Unable to create link (name already exists).\n",
      "Could not add dataset: Unable to create link (name already exists).\n",
      "Could not add dataset: Unable to create link (name already exists).\n",
      "Could not add dataset: Unable to create link (name already exists).\n",
      "Could not add dataset: Unable to create link (name already exists).\n",
      "Could not add dataset: Unable to create link (name already exists).\n",
      "Could not add dataset: Unable to create link (name already exists).\n",
      "Could not add dataset: Unable to create link (name already exists).\n",
      "Could not add dataset: Unable to create link (name already exists).\n",
      "Could not add dataset: Unable to create link (name already exists).\n",
      "Could not add dataset: Unable to create link (name already exists).\n",
      "Could not add dataset: Unable to create link (name already exists).\n",
      "Could not add dataset: Unable to create link (name already exists).\n",
      "Could not add dataset: Unable to create link (name already exists).\n",
      "Could not add dataset: Unable to create link (name already exists).\n",
      "Could not add dataset: Unable to create link (name already exists).\n",
      "Could not add dataset: Unable to create link (name already exists).\n",
      "Could not add dataset: Unable to create link (name already exists).\n",
      "Could not add dataset: Unable to create link (name already exists).\n",
      "Could not add dataset: Unable to create link (name already exists).\n",
      "Could not add dataset: Unable to create link (name already exists).\n",
      "Could not add dataset: Unable to create link (name already exists).\n",
      "Could not add dataset: Unable to create link (name already exists).\n",
      "Could not add dataset: Unable to create link (name already exists).\n",
      "Could not add dataset: Unable to create link (name already exists).\n",
      "Could not add dataset: Unable to create link (name already exists).\n",
      "Could not add dataset: Unable to create link (name already exists).\n",
      "Could not add dataset: Unable to create link (name already exists).\n",
      "Could not add dataset: Unable to create link (name already exists).\n",
      "Could not add dataset: Unable to create link (name already exists).\n",
      "Could not add dataset: Unable to create link (name already exists).\n",
      "Could not add dataset: Unable to create link (name already exists).\n",
      "Could not add dataset: Unable to create link (name already exists).\n",
      "Could not add dataset: Unable to create link (name already exists).\n",
      "Could not add dataset: Unable to create link (name already exists).\n",
      "Could not add dataset: Unable to create link (name already exists).\n",
      "Could not add dataset: Unable to create link (name already exists).\n",
      "Could not add dataset: Unable to create link (name already exists).\n",
      "Could not add dataset: Unable to create link (name already exists).\n",
      "Could not add dataset: Unable to create link (name already exists).\n",
      "Could not add dataset: Unable to create link (name already exists).\n",
      "Could not add dataset: Unable to create link (name already exists).\n",
      "Could not add dataset: Unable to create link (name already exists).\n",
      "Could not add dataset: Unable to create link (name already exists).\n",
      "Could not add dataset: Unable to create link (name already exists).\n",
      "Could not add dataset: Unable to create link (name already exists).\n",
      "Could not add dataset: Unable to create link (name already exists).\n"
     ]
    },
    {
     "name": "stderr",
     "output_type": "stream",
     "text": [
      " █░░░░░░░░░░░░░░░░░░░░░░░░░░░░░░░░░░░░░░░░░░░░░░░░░   2% ETA 0:00:05"
     ]
    },
    {
     "name": "stdout",
     "output_type": "stream",
     "text": [
      "Could not add dataset: Unable to create link (name already exists).\n",
      "Could not add dataset: Unable to create link (name already exists).\n"
     ]
    },
    {
     "name": "stderr",
     "output_type": "stream",
     "text": [
      " ████████████████░░░░░░░░░░░░░░░░░░░░░░░░░░░░░░░░░░  32% ETA 0:00:01"
     ]
    },
    {
     "name": "stdout",
     "output_type": "stream",
     "text": [
      "Could not add dataset: Unable to create link (name already exists).\n",
      "Could not add dataset: Unable to create link (name already exists).\n",
      "Could not add dataset: Unable to create link (name already exists).\n",
      "Could not add dataset: Unable to create link (name already exists).\n",
      "Could not add dataset: Unable to create link (name already exists).\n",
      "Could not add dataset: Unable to create link (name already exists).\n",
      "Could not add dataset: Unable to create link (name already exists).\n",
      "Could not add dataset: Unable to create link (name already exists).\n",
      "Could not add dataset: Unable to create link (name already exists).\n",
      "Could not add dataset: Unable to create link (name already exists).\n",
      "Could not add dataset: Unable to create link (name already exists).\n",
      "Could not add dataset: Unable to create link (name already exists).\n",
      "Could not add dataset: Unable to create link (name already exists).\n",
      "Could not add dataset: Unable to create link (name already exists).\n",
      "Could not add dataset: Unable to create link (name already exists).\n",
      "Could not add dataset: Unable to create link (name already exists).\n",
      "Could not add dataset: Unable to create link (name already exists).\n",
      "Could not add dataset: Unable to create link (name already exists).\n",
      "Could not add dataset: Unable to create link (name already exists).\n",
      "Could not add dataset: Unable to create link (name already exists).\n",
      "Could not add dataset: Unable to create link (name already exists).\n",
      "Could not add dataset: Unable to create link (name already exists).\n",
      "Could not add dataset: Unable to create link (name already exists).\n",
      "Could not add dataset: Unable to create link (name already exists).\n"
     ]
    },
    {
     "name": "stderr",
     "output_type": "stream",
     "text": [
      " ██████████████████████████████████████████████████ 100% ETA 0:00:00\n"
     ]
    },
    {
     "name": "stdout",
     "output_type": "stream",
     "text": [
      "Could not add dataset: Unable to create link (name already exists).\n",
      "Could not add dataset: Unable to create link (name already exists).\n",
      "Could not add dataset: Unable to create link (name already exists).\n",
      "Could not add dataset: Unable to create link (name already exists).\n",
      "Could not add dataset: Unable to create link (name already exists).\n",
      "Could not add dataset: Unable to create link (name already exists).\n",
      "Could not add dataset: Unable to create link (name already exists).\n",
      "Could not add dataset: Unable to create link (name already exists).\n",
      "Could not add dataset: Unable to create link (name already exists).\n",
      "Could not add dataset: Unable to create link (name already exists).\n",
      "Could not add dataset: Unable to create link (name already exists).\n",
      "Could not add dataset: Unable to create link (name already exists).\n",
      "Could not add dataset: Unable to create link (name already exists).\n",
      "Could not add dataset: Unable to create link (name already exists).\n",
      "Could not add dataset: Unable to create link (name already exists).\n",
      "Could not add dataset: Unable to create link (name already exists).\n",
      "Could not add dataset: Unable to create link (name already exists).\n",
      "Could not add dataset: Unable to create link (name already exists).\n",
      "Could not add dataset: Unable to create link (name already exists).\n",
      "Could not add dataset: Unable to create link (name already exists).\n",
      "Could not add dataset: Unable to create link (name already exists).\n",
      "Could not add dataset: Unable to create link (name already exists).\n",
      "Could not add dataset: Unable to create link (name already exists).\n",
      "Could not add dataset: Unable to create link (name already exists).\n",
      "Could not add dataset: Unable to create link (name already exists).\n",
      "Could not add dataset: Unable to create link (name already exists).\n",
      "Could not add dataset: Unable to create link (name already exists).\n",
      "Could not add dataset: Unable to create link (name already exists).\n",
      "Could not add dataset: Unable to create link (name already exists).\n",
      "Could not add dataset: Unable to create link (name already exists).\n",
      "Could not add dataset: Unable to create link (name already exists).\n",
      "Could not add dataset: Unable to create link (name already exists).\n",
      "Could not add dataset: Unable to create link (name already exists).\n",
      "Could not add dataset: Unable to create link (name already exists).\n",
      "Could not add dataset: Unable to create link (name already exists).\n",
      "Could not add dataset: Unable to create link (name already exists).\n",
      "Could not add dataset: Unable to create link (name already exists).\n",
      "Could not add dataset: Unable to create link (name already exists).\n",
      "Could not add dataset: Unable to create link (name already exists).\n",
      "Could not add dataset: Unable to create link (name already exists).\n",
      "Could not add dataset: Unable to create link (name already exists).\n",
      "Could not add dataset: Unable to create link (name already exists).\n",
      "Could not add dataset: Unable to create link (name already exists).\n",
      "Could not add dataset: Unable to create link (name already exists).\n",
      "Could not add dataset: Unable to create link (name already exists).\n",
      "Could not add dataset: Unable to create link (name already exists).\n",
      "Could not add dataset: Unable to create link (name already exists).\n",
      "Could not add dataset: Unable to create link (name already exists).\n",
      "Could not add dataset: Unable to create link (name already exists).\n",
      "Could not add dataset: Unable to create link (name already exists).\n",
      "Could not add dataset: Unable to create link (name already exists).\n",
      "Could not add dataset: Unable to create link (name already exists).\n",
      "Could not add dataset: Unable to create link (name already exists).\n",
      "Could not add dataset: Unable to create link (name already exists).\n",
      "Could not add dataset: Unable to create link (name already exists).\n"
     ]
    },
    {
     "name": "stderr",
     "output_type": "stream",
     "text": [
      " ██░░░░░░░░░░░░░░░░░░░░░░░░░░░░░░░░░░░░░░░░░░░░░░░░   5% ETA 0:00:03"
     ]
    },
    {
     "name": "stdout",
     "output_type": "stream",
     "text": [
      "Could not add dataset: Unable to create link (name already exists).\n",
      "Could not add dataset: Unable to create link (name already exists).\n",
      "Could not add dataset: Unable to create link (name already exists).\n",
      "Could not add dataset: Unable to create link (name already exists).\n"
     ]
    },
    {
     "name": "stderr",
     "output_type": "stream",
     "text": [
      " ███████████████████████░░░░░░░░░░░░░░░░░░░░░░░░░░░  47% ETA 0:00:00"
     ]
    },
    {
     "name": "stdout",
     "output_type": "stream",
     "text": [
      "Could not add dataset: Unable to create link (name already exists).\n",
      "Could not add dataset: Unable to create link (name already exists).\n",
      "Could not add dataset: Unable to create link (name already exists).\n",
      "Could not add dataset: Unable to create link (name already exists).\n",
      "Could not add dataset: Unable to create link (name already exists).\n",
      "Could not add dataset: Unable to create link (name already exists).\n",
      "Could not add dataset: Unable to create link (name already exists).\n",
      "Could not add dataset: Unable to create link (name already exists).\n",
      "Could not add dataset: Unable to create link (name already exists).\n",
      "Could not add dataset: Unable to create link (name already exists).\n",
      "Could not add dataset: Unable to create link (name already exists).\n",
      "Could not add dataset: Unable to create link (name already exists).\n",
      "Could not add dataset: Unable to create link (name already exists).\n",
      "Could not add dataset: Unable to create link (name already exists).\n",
      "Could not add dataset: Unable to create link (name already exists).\n",
      "Could not add dataset: Unable to create link (name already exists).\n",
      "Could not add dataset: Unable to create link (name already exists).\n",
      "Could not add dataset: Unable to create link (name already exists).\n",
      "Could not add dataset: Unable to create link (name already exists).\n",
      "Could not add dataset: Unable to create link (name already exists).\n",
      "Could not add dataset: Unable to create link (name already exists).\n",
      "Could not add dataset: Unable to create link (name already exists).\n",
      "Could not add dataset: Unable to create link (name already exists).\n",
      "Could not add dataset: Unable to create link (name already exists).\n",
      "Could not add dataset: Unable to create link (name already exists).\n",
      "Could not add dataset: Unable to create link (name already exists).\n",
      "Could not add dataset: Unable to create link (name already exists).\n",
      "Could not add dataset: Unable to create link (name already exists).\n",
      "Could not add dataset: Unable to create link (name already exists).\n",
      "Could not add dataset: Unable to create link (name already exists).\n",
      "Could not add dataset: Unable to create link (name already exists).\n",
      "Could not add dataset: Unable to create link (name already exists).\n",
      "Could not add dataset: Unable to create link (name already exists).\n",
      "Could not add dataset: Unable to create link (name already exists).\n",
      "Could not add dataset: Unable to create link (name already exists).\n"
     ]
    },
    {
     "name": "stderr",
     "output_type": "stream",
     "text": [
      " ██████████████████████████████████████████████████ 100% ETA 0:00:00\n"
     ]
    },
    {
     "name": "stdout",
     "output_type": "stream",
     "text": [
      "Could not add dataset: Unable to create link (name already exists).\n",
      "Could not add dataset: Unable to create link (name already exists).\n",
      "Could not add dataset: Unable to create link (name already exists).\n",
      "Could not add dataset: Unable to create link (name already exists).\n",
      "Could not add dataset: Unable to create link (name already exists).\n",
      "Could not add dataset: Unable to create link (name already exists).\n",
      "Could not add dataset: Unable to create link (name already exists).\n",
      "Could not add dataset: Unable to create link (name already exists).\n",
      "Could not add dataset: Unable to create link (name already exists).\n",
      "Could not add dataset: Unable to create link (name already exists).\n",
      "Could not add dataset: Unable to create link (name already exists).\n",
      "Could not add dataset: Unable to create link (name already exists).\n",
      "Could not add dataset: Unable to create link (name already exists).\n",
      "Could not add dataset: Unable to create link (name already exists).\n",
      "Could not add dataset: Unable to create link (name already exists).\n",
      "Could not add dataset: Unable to create link (name already exists).\n",
      "Could not add dataset: Unable to create link (name already exists).\n",
      "Could not add dataset: Unable to create link (name already exists).\n",
      "Could not add dataset: Unable to create link (name already exists).\n",
      "Could not add dataset: Unable to create link (name already exists).\n",
      "Could not add dataset: Unable to create link (name already exists).\n",
      "Could not add dataset: Unable to create link (name already exists).\n",
      "Could not add dataset: Unable to create link (name already exists).\n",
      "Could not add dataset: Unable to create link (name already exists).\n",
      "Could not add dataset: Unable to create link (name already exists).\n",
      "Could not add dataset: Unable to create link (name already exists).\n",
      "Could not add dataset: Unable to create link (name already exists).\n",
      "Could not add dataset: Unable to create link (name already exists).\n",
      "Could not add dataset: Unable to create link (name already exists).\n",
      "Could not add dataset: Unable to create link (name already exists).\n",
      "Could not add dataset: Unable to create link (name already exists).\n",
      "Could not add dataset: Unable to create link (name already exists).\n",
      "Could not add dataset: Unable to create link (name already exists).\n",
      "Could not add dataset: Unable to create link (name already exists).\n",
      "Could not add dataset: Unable to create link (name already exists).\n",
      "Could not add dataset: Unable to create link (name already exists).\n",
      "Could not add dataset: Unable to create link (name already exists).\n",
      "Could not add dataset: Unable to create link (name already exists).\n",
      "Could not add dataset: Unable to create link (name already exists).\n",
      "Could not add dataset: Unable to create link (name already exists).\n",
      "Could not add dataset: Unable to create link (name already exists).\n",
      "Could not add dataset: Unable to create link (name already exists).\n"
     ]
    },
    {
     "name": "stderr",
     "output_type": "stream",
     "text": [
      " █░░░░░░░░░░░░░░░░░░░░░░░░░░░░░░░░░░░░░░░░░░░░░░░░░   2% ETA 0:00:04"
     ]
    },
    {
     "name": "stdout",
     "output_type": "stream",
     "text": [
      "Could not add dataset: Unable to create link (name already exists).\n",
      "Could not add dataset: Unable to create link (name already exists).\n"
     ]
    },
    {
     "name": "stderr",
     "output_type": "stream",
     "text": [
      " ██████████████░░░░░░░░░░░░░░░░░░░░░░░░░░░░░░░░░░░░  28% ETA 0:00:01"
     ]
    },
    {
     "name": "stdout",
     "output_type": "stream",
     "text": [
      "Could not add dataset: Unable to create link (name already exists).\n",
      "Could not add dataset: Unable to create link (name already exists).\n",
      "Could not add dataset: Unable to create link (name already exists).\n",
      "Could not add dataset: Unable to create link (name already exists).\n",
      "Could not add dataset: Unable to create link (name already exists).\n",
      "Could not add dataset: Unable to create link (name already exists).\n",
      "Could not add dataset: Unable to create link (name already exists).\n",
      "Could not add dataset: Unable to create link (name already exists).\n",
      "Could not add dataset: Unable to create link (name already exists).\n",
      "Could not add dataset: Unable to create link (name already exists).\n",
      "Could not add dataset: Unable to create link (name already exists).\n",
      "Could not add dataset: Unable to create link (name already exists).\n",
      "Could not add dataset: Unable to create link (name already exists).\n",
      "Could not add dataset: Unable to create link (name already exists).\n",
      "Could not add dataset: Unable to create link (name already exists).\n",
      "Could not add dataset: Unable to create link (name already exists).\n",
      "Could not add dataset: Unable to create link (name already exists).\n",
      "Could not add dataset: Unable to create link (name already exists).\n",
      "Could not add dataset: Unable to create link (name already exists).\n",
      "Could not add dataset: Unable to create link (name already exists).\n",
      "Could not add dataset: Unable to create link (name already exists).\n",
      "Could not add dataset: Unable to create link (name already exists).\n"
     ]
    },
    {
     "name": "stderr",
     "output_type": "stream",
     "text": [
      " ██████████████████████████████████████████████████ 100% ETA 0:00:00\n",
      " ░░░░░░░░░░░░░░░░░░░░░░░░░░░░░░░░░░░░░░░░░░░░░░░░░░   0% ETA n/a"
     ]
    },
    {
     "name": "stdout",
     "output_type": "stream",
     "text": [
      "Could not add dataset: Unable to create link (name already exists).\n",
      "Could not add dataset: Unable to create link (name already exists).\n",
      "Could not add dataset: Unable to create link (name already exists).\n",
      "Could not add dataset: Unable to create link (name already exists).\n",
      "Could not add dataset: Unable to create link (name already exists).\n",
      "Could not add dataset: Unable to create link (name already exists).\n",
      "Could not add dataset: Unable to create link (name already exists).\n",
      "Could not add dataset: Unable to create link (name already exists).\n",
      "Could not add dataset: Unable to create link (name already exists).\n",
      "Could not add dataset: Unable to create link (name already exists).\n",
      "Could not add dataset: Unable to create link (name already exists).\n",
      "Could not add dataset: Unable to create link (name already exists).\n",
      "Could not add dataset: Unable to create link (name already exists).\n",
      "Could not add dataset: Unable to create link (name already exists).\n",
      "Could not add dataset: Unable to create link (name already exists).\n",
      "Could not add dataset: Unable to create link (name already exists).\n",
      "Could not add dataset: Unable to create link (name already exists).\n",
      "Could not add dataset: Unable to create link (name already exists).\n",
      "Could not add dataset: Unable to create link (name already exists).\n",
      "Could not add dataset: Unable to create link (name already exists).\n",
      "Could not add dataset: Unable to create link (name already exists).\n",
      "Could not add dataset: Unable to create link (name already exists).\n",
      "Could not add dataset: Unable to create link (name already exists).\n",
      "Could not add dataset: Unable to create link (name already exists).\n",
      "Could not add dataset: Unable to create link (name already exists).\n",
      "Could not add dataset: Unable to create link (name already exists).\n",
      "Could not add dataset: Unable to create link (name already exists).\n",
      "Could not add dataset: Unable to create link (name already exists).\n",
      "Could not add dataset: Unable to create link (name already exists).\n",
      "Could not add dataset: Unable to create link (name already exists).\n",
      "Could not add dataset: Unable to create link (name already exists).\n",
      "Could not add dataset: Unable to create link (name already exists).\n",
      "Could not add dataset: Unable to create link (name already exists).\n",
      "Could not add dataset: Unable to create link (name already exists).\n",
      "Could not add dataset: Unable to create link (name already exists).\n",
      "Could not add dataset: Unable to create link (name already exists).\n",
      "Could not add dataset: Unable to create link (name already exists).\n",
      "Could not add dataset: Unable to create link (name already exists).\n",
      "Could not add dataset: Unable to create link (name already exists).\n",
      "Could not add dataset: Unable to create link (name already exists).\n",
      "Could not add dataset: Unable to create link (name already exists).\n",
      "Could not add dataset: Unable to create link (name already exists).\n",
      "Could not add dataset: Unable to create link (name already exists).\n",
      "Could not add dataset: Unable to create link (name already exists).\n",
      "Could not add dataset: Unable to create link (name already exists).\n",
      "Could not add dataset: Unable to create link (name already exists).\n",
      "Could not add dataset: Unable to create link (name already exists).\n",
      "Could not add dataset: Unable to create link (name already exists).\n",
      "Could not add dataset: Unable to create link (name already exists).\n",
      "Could not add dataset: Unable to create link (name already exists).\n",
      "Could not add dataset: Unable to create link (name already exists).\n",
      "Could not add dataset: Unable to create link (name already exists).\n",
      "Could not add dataset: Unable to create link (name already exists).\n",
      "Could not add dataset: Unable to create link (name already exists).\n",
      "Could not add dataset: Unable to create link (name already exists).\n",
      "Could not add dataset: Unable to create link (name already exists).\n",
      "Could not add dataset: Unable to create link (name already exists).\n"
     ]
    },
    {
     "name": "stderr",
     "output_type": "stream",
     "text": [
      " ██████████████████████████████████████████████████ 100% ETA 0:00:00\n"
     ]
    }
   ],
   "source": [
    "import damask\n",
    "import matplotlib as mpl\n",
    "mpl.use('Agg')\n",
    "import matplotlib.pyplot as PyPlot\n",
    "import numpy as np\n",
    "import h5py\n",
    "from Plot_stress_strain import plot\n",
    "from damask_eval import eval_stress , eval_strain\n",
    "%matplotlib inline\n",
    "d = []\n",
    "stresses = []\n",
    "strains = []\n",
    "for i,c in enumerate(concentrations): \n",
    "    os.chdir('/home/pyiron_user/pyiron/projects/from_liam/')\n",
    "    os.chdir(simulation_folder[i])\n",
    "    d.append(damask.Result(job_file[i]))                  \n",
    "    d[i].add_Cauchy()\n",
    "    d[i].add_strain_tensor()\n",
    "    d[i].add_Mises('sigma')\n",
    "    d[i].add_Mises('epsilon_V^0.0(F)')\n",
    "    d[i].add_calculation('avg_sigma',\"np.average(#sigma_vM#)\")\n",
    "    d[i].add_calculation('avg_epsilon',\"np.average(#epsilon_V^0.0(F)_vM#)\")\n",
    "    d[i].save_vtk(['sigma','epsilon_V^0.0(F)','sigma_vM','epsilon_V^0.0(F)_vM'])\n",
    "    stresses.append(eval_stress(job_file[i]))\n",
    "    strains.append(eval_strain(job_file[i]))"
   ]
  },
  {
   "cell_type": "markdown",
   "metadata": {},
   "source": [
    "## Visualization\n",
    "### Von-Mises Stress"
   ]
  },
  {
   "cell_type": "code",
   "execution_count": 49,
   "metadata": {},
   "outputs": [],
   "source": [
    "import pyvista as pv\n",
    "inc=20\n",
    "os.chdir('/home/pyiron_user/pyiron/projects/from_liam/')\n",
    "os.chdir(simulation_folder[0])\n",
    "mesh = pv.read(job_file[0].split('.')[0] + f'_inc{inc}.vtr')  #enter the file name you wish to view"
   ]
  },
  {
   "cell_type": "code",
   "execution_count": 50,
   "metadata": {},
   "outputs": [
    {
     "data": {
      "text/html": [
       "<table><tr><th>Header</th><th>Data Arrays</th></tr><tr><td>\n",
       "<table>\n",
       "<tr><th>RectilinearGrid</th><th>Information</th></tr>\n",
       "<tr><td>N Cells</td><td>4096</td></tr>\n",
       "<tr><td>N Points</td><td>4913</td></tr>\n",
       "<tr><td>X Bounds</td><td>0.000e+00, 1.000e+00</td></tr>\n",
       "<tr><td>Y Bounds</td><td>0.000e+00, 1.000e+00</td></tr>\n",
       "<tr><td>Z Bounds</td><td>0.000e+00, 1.000e+00</td></tr>\n",
       "<tr><td>Dimensions</td><td>17, 17, 17</td></tr>\n",
       "<tr><td>N Arrays</td><td>5</td></tr>\n",
       "</table>\n",
       "\n",
       "</td><td>\n",
       "<table>\n",
       "<tr><th>Name</th><th>Field</th><th>Type</th><th>N Comp</th><th>Min</th><th>Max</th></tr>\n",
       "<tr><td><b>u</b></td><td>Points</td><td>float32</td><td>3</td><td>-3.218e-03</td><td>5.392e-03</td></tr>\n",
       "<tr><td>1_constituent/generic/sigma</td><td>Cells</td><td>float32</td><td>9</td><td>-7.852e+07</td><td>1.456e+08</td></tr>\n",
       "<tr><td>1_constituent/generic/epsilon_V^0.0(F)</td><td>Cells</td><td>float32</td><td>9</td><td>-1.054e-02</td><td>1.311e-02</td></tr>\n",
       "<tr><td>1_constituent/generic/sigma_vM</td><td>Cells</td><td>float32</td><td>1</td><td>5.762e+07</td><td>1.272e+08</td></tr>\n",
       "<tr><td>1_constituent/generic/epsilon_V^0.0(F)_vM</td><td>Cells</td><td>float32</td><td>1</td><td>1.273e-03</td><td>1.331e-02</td></tr>\n",
       "</table>\n",
       "\n",
       "</td></tr> </table>"
      ],
      "text/plain": [
       "RectilinearGrid (0x7f171d51b0a0)\n",
       "  N Cells:\t4096\n",
       "  N Points:\t4913\n",
       "  X Bounds:\t0.000e+00, 1.000e+00\n",
       "  Y Bounds:\t0.000e+00, 1.000e+00\n",
       "  Z Bounds:\t0.000e+00, 1.000e+00\n",
       "  Dimensions:\t17, 17, 17\n",
       "  N Arrays:\t5"
      ]
     },
     "execution_count": 50,
     "metadata": {},
     "output_type": "execute_result"
    }
   ],
   "source": [
    "from itkwidgets import view\n",
    "import itk\n",
    "mesh"
   ]
  },
  {
   "cell_type": "code",
   "execution_count": 51,
   "metadata": {},
   "outputs": [
    {
     "data": {
      "application/vnd.jupyter.widget-view+json": {
       "model_id": "07699c0abf964e4983f0ac767b18170b",
       "version_major": 2,
       "version_minor": 0
      },
      "text/plain": [
       "Viewer(geometries=[{'vtkClass': 'vtkPolyData', 'points': {'vtkClass': 'vtkPoints', 'name': '_points', 'numberO…"
      ]
     },
     "metadata": {},
     "output_type": "display_data"
    }
   ],
   "source": [
    "pl = pv.PlotterITK()\n",
    "pl.add_mesh(mesh)\n",
    "pl.show()"
   ]
  },
  {
   "cell_type": "markdown",
   "metadata": {},
   "source": [
    "### Stress-strain curve"
   ]
  },
  {
   "cell_type": "code",
   "execution_count": 57,
   "metadata": {},
   "outputs": [
    {
     "name": "stderr",
     "output_type": "stream",
     "text": [
      "The default file mode will change to 'r' (read-only) in h5py 3.0. To suppress this warning, pass the mode you need to h5py.File(), or set the global default h5.get_config().default_file_mode, or set the environment variable H5PY_DEFAULT_READONLY=1. Available modes are: 'r', 'r+', 'w', 'w-'/'x', 'a'. See the docs for details.\n"
     ]
    },
    {
     "data": {
      "text/plain": [
       "Text(0.5, 1.0, 'Stress-Strain')"
      ]
     },
     "execution_count": 57,
     "metadata": {},
     "output_type": "execute_result"
    },
    {
     "data": {
      "image/png": "[encoded data removed]",
      "text/plain": [
       "<Figure size 432x288 with 1 Axes>"
      ]
     },
     "metadata": {
      "needs_background": "light"
     },
     "output_type": "display_data"
    }
   ],
   "source": [
    "import matplotlib.pyplot as plt\n",
    "i = 0;\n",
    "stresses[0]= eval_stress(job_file[0])\n",
    "stresses[1]= eval_stress(job_file[1])\n",
    "stresses[2]= eval_stress(job_file[2])\n",
    "colors = ['r','g','b']\n",
    "#for color, strain, stress, c in zip(colors, strains, stresses, concentrations):\n",
    "plt.plot(strains[0], stresses[0], 'r', linewidth=2, label = 'Mg={}%'.format(0*100))\n",
    "plt.plot(strains[1], stresses[1], 'b', linestyle=\"None\",marker = 'o' ,label = 'Mg={}%'.format(0.01*100))\n",
    "plt.plot(strains[1], stresses[2], 'g', linestyle=\"None\",marker = '*' ,label = 'Mg={}%'.format(0.01*100))\n",
    "#plt.ylim(90, 95)\n",
    "plt.grid(True)\n",
    "plt.xlabel('$Strain$')\n",
    "plt.ylabel('Stress- MPa')\n",
    "plt.legend( loc='lower right')\n",
    "plt.title(\"Stress-Strain\")\n",
    " #   i= i+1;"
   ]
  }
 ],
 "metadata": {
  "kernelspec": {
   "display_name": "Python 3",
   "language": "python",
   "name": "python3"
  },
  "language_info": {
   "codemirror_mode": {
    "name": "ipython",
    "version": 3
   },
   "file_extension": ".py",
   "mimetype": "text/x-python",
   "name": "python",
   "nbconvert_exporter": "python",
   "pygments_lexer": "ipython3",
   "version": "3.8.5"
  },
  "toc": {
   "base_numbering": 1,
   "nav_menu": {},
   "number_sections": true,
   "sideBar": true,
   "skip_h1_title": false,
   "title_cell": "Table of Contents",
   "title_sidebar": "Contents",
   "toc_cell": false,
   "toc_position": {},
   "toc_section_display": true,
   "toc_window_display": false
  }
 },
 "nbformat": 4,
 "nbformat_minor": 4
}
